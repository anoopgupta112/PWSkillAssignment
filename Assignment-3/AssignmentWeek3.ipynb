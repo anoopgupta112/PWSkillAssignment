{
 "cells": [
  {
   "cell_type": "markdown",
   "id": "1ce54d4a-9f4a-4848-ab16-9c3b22232026",
   "metadata": {},
   "source": [
    "### Q1. Which keyword is used to create a function? Create a function to return a list of odd numbers in the\n",
    "### range of 1 to 25."
   ]
  },
  {
   "cell_type": "markdown",
   "id": "cd3c02d8-b239-4e5e-b792-f72304f52cd8",
   "metadata": {},
   "source": [
    "### def keyword used to create a funtion. here is example -\n"
   ]
  },
  {
   "cell_type": "code",
   "execution_count": 1,
   "id": "1b87a492-ec86-435c-9730-e8babfbb8997",
   "metadata": {},
   "outputs": [],
   "source": [
    "def OddNum():\n",
    "    l = []\n",
    "    for i in range(1,25):\n",
    "        if i % 2 != 0:\n",
    "            l.append(i)\n",
    "    return l;"
   ]
  },
  {
   "cell_type": "code",
   "execution_count": 2,
   "id": "4518442d-3ec4-4fd0-8162-73fd7fe39987",
   "metadata": {},
   "outputs": [
    {
     "data": {
      "text/plain": [
       "[1, 3, 5, 7, 9, 11, 13, 15, 17, 19, 21, 23]"
      ]
     },
     "execution_count": 2,
     "metadata": {},
     "output_type": "execute_result"
    }
   ],
   "source": [
    "OddNum()"
   ]
  },
  {
   "cell_type": "markdown",
   "id": "abd5bbfd-4476-4556-8cfe-9ec67757e07c",
   "metadata": {},
   "source": [
    "### Q2. Why *args and **kwargs is used in some functions? Create a function each for *args and **kwargs to\n",
    "### demonstrate their use."
   ]
  },
  {
   "cell_type": "markdown",
   "id": "6b504a76-25c2-40fd-8df8-d80bb56bc50f",
   "metadata": {},
   "source": [
    "### *args : It used to pass number of arguments in function. When we are not sure about the arguments so we use *args. It's not mandatory to use 'args' keyword, you can use any of keyword which is not reseverd in python"
   ]
  },
  {
   "cell_type": "markdown",
   "id": "70cd5204-f13f-4122-b420-4f1b3b2c06ce",
   "metadata": {},
   "source": [
    "### **kwargs: It's similar to the *args like we can pass number of arguments but this store value in key - value format like dictionary."
   ]
  },
  {
   "cell_type": "code",
   "execution_count": 6,
   "id": "b2e6cc62-39a3-469d-aea4-155db2bb5494",
   "metadata": {},
   "outputs": [],
   "source": [
    "# function using *args\n",
    "def sumOfNum(*args):\n",
    "    num = 0\n",
    "    for i in args:\n",
    "        num += i\n",
    "    return num\n",
    "\n",
    "        "
   ]
  },
  {
   "cell_type": "code",
   "execution_count": 7,
   "id": "d7562b52-de60-4502-b7dd-8a5ce4174e02",
   "metadata": {},
   "outputs": [
    {
     "data": {
      "text/plain": [
       "26"
      ]
     },
     "execution_count": 7,
     "metadata": {},
     "output_type": "execute_result"
    }
   ],
   "source": [
    "sumOfNum(22,3,1)"
   ]
  },
  {
   "cell_type": "code",
   "execution_count": 8,
   "id": "44c1dfff-cb19-450e-9e9f-6c0cf134b651",
   "metadata": {},
   "outputs": [],
   "source": [
    "# function using **kwagrs\n",
    "def SumOfScore(**kwargs):\n",
    "    score = 0\n",
    "    for i in kwargs.values():\n",
    "        score += i\n",
    "    return score\n",
    "\n",
    "    "
   ]
  },
  {
   "cell_type": "code",
   "execution_count": 9,
   "id": "cbc52798-a28d-4ec8-8eaf-3cb4e0be6d67",
   "metadata": {},
   "outputs": [
    {
     "data": {
      "text/plain": [
       "91"
      ]
     },
     "execution_count": 9,
     "metadata": {},
     "output_type": "execute_result"
    }
   ],
   "source": [
    "SumOfScore(math = 34, GK = 23, Bio = 34)"
   ]
  },
  {
   "cell_type": "code",
   "execution_count": 10,
   "id": "5a99b364-d458-40c0-bd8e-1113ade7d29c",
   "metadata": {},
   "outputs": [],
   "source": [
    "# example 2\n",
    "def dummyData(**kwargs):\n",
    "    return kwargs"
   ]
  },
  {
   "cell_type": "code",
   "execution_count": 11,
   "id": "ed2b6b20-179e-4bff-a12c-6a303823bb9b",
   "metadata": {},
   "outputs": [
    {
     "data": {
      "text/plain": [
       "{'a': 34, 'b': 3, 'name': 'anoop', 'fl': 9.33}"
      ]
     },
     "execution_count": 11,
     "metadata": {},
     "output_type": "execute_result"
    }
   ],
   "source": [
    "dummyData(a = 34, b = 3, name = \"anoop\", fl = 9.33)"
   ]
  },
  {
   "cell_type": "markdown",
   "id": "3d163ad1-c6b3-44ed-a82c-df1fcd2bf136",
   "metadata": {},
   "source": [
    "### Q3. What is an iterator in python? Name the method used to initialise the iterator object and the method\n",
    "### used for iteration. Use these methods to print the first five elements of the given list [2, 4, 6, 8, 10, 12, 14, 16,\n",
    "### 18, 20]."
   ]
  },
  {
   "cell_type": "markdown",
   "id": "d31dbdd4-0741-4bc6-a757-5569d0166f5e",
   "metadata": {},
   "source": [
    "### iterator is an object that used to iterate over collections of data, such as lists, tuples, dictionaries, and sets.\n",
    "### The iterator consists of two methods: \n",
    "\n",
    "1. iter() \n",
    "2. next().  "
   ]
  },
  {
   "cell_type": "markdown",
   "id": "2fdb0ec7-05f0-431e-83be-ef1c7a231a23",
   "metadata": {},
   "source": [
    "### iter():  To initialize an iterator object in Python, you can use the iter() function. It takes a container as an argument and returns an iterator object "
   ]
  },
  {
   "cell_type": "markdown",
   "id": "c61cd32a-7edc-4ec9-bee5-e1268081615c",
   "metadata": {},
   "source": [
    "### next(): It is used to fetch the next element from the iterator."
   ]
  },
  {
   "cell_type": "code",
   "execution_count": 12,
   "id": "59e79441-537b-425c-a188-ae03deed4222",
   "metadata": {},
   "outputs": [
    {
     "name": "stdout",
     "output_type": "stream",
     "text": [
      "2\n",
      "4\n",
      "6\n",
      "8\n",
      "10\n"
     ]
    }
   ],
   "source": [
    "l = [2, 4, 6, 8, 10, 12, 14, 16, 18, 20]\n",
    "my_iterator = iter(l)\n",
    "for i in range(5):\n",
    "    element = next(my_iterator)\n",
    "    print(element)"
   ]
  },
  {
   "cell_type": "markdown",
   "id": "b847663d-93ce-48e1-8988-b7ab9e91c768",
   "metadata": {},
   "source": [
    "### # Q4. What is a generator function in python? Why yield keyword is used? Give an example of a generator function.\n"
   ]
  },
  {
   "cell_type": "markdown",
   "id": "04f5f4b4-4c63-4860-b64b-b99a8b9b7c5a",
   "metadata": {},
   "source": [
    "### Generator function is a function that allows you to define an iterator in a concise and efficient way. \n",
    "### yield keyword: In regular functions that use the return statement to return a value and terminate, a generator function uses the yield keyword to produce a series of values. When a generator function is called, it returns an iterator object.\n",
    "\n"
   ]
  },
  {
   "cell_type": "code",
   "execution_count": 13,
   "id": "680c7dfd-c7f4-4447-9bbc-1c83bb4a36c3",
   "metadata": {},
   "outputs": [],
   "source": [
    "# Example \n",
    "def evenNum(n):\n",
    "    for i in range(n):\n",
    "        if i % 2 == 0:\n",
    "            yield i"
   ]
  },
  {
   "cell_type": "code",
   "execution_count": 14,
   "id": "d0c663b8-3ece-4a72-8772-bc8ffba161d9",
   "metadata": {},
   "outputs": [
    {
     "name": "stdout",
     "output_type": "stream",
     "text": [
      "0\n",
      "2\n",
      "4\n",
      "6\n",
      "8\n"
     ]
    }
   ],
   "source": [
    "# to iterate over its generated values\n",
    "\n",
    "for num in evenNum(10):\n",
    "    print(num)"
   ]
  },
  {
   "cell_type": "markdown",
   "id": "2dc0337b-9ae2-4f71-a84b-124ab5bd5dcb",
   "metadata": {},
   "source": [
    "### Q5. Create a generator function for prime numbers less than 1000. Use the next() method to print the\n",
    "### first 20 prime numbers."
   ]
  },
  {
   "cell_type": "code",
   "execution_count": 30,
   "id": "9f59bd33-54d8-453c-9a25-6d179f9975a5",
   "metadata": {},
   "outputs": [],
   "source": [
    "def generatePrime():\n",
    "    for i in range(2,1000):\n",
    "        Check=False\n",
    "        for j in range(2,i):\n",
    "            if i%j==0:\n",
    "                Check=True\n",
    "        if not Check:\n",
    "            yield i\n"
   ]
  },
  {
   "cell_type": "code",
   "execution_count": 31,
   "id": "13dc0209-c7e6-428c-b533-b348a917119f",
   "metadata": {},
   "outputs": [],
   "source": [
    "PrimeNum = generatePrime()"
   ]
  },
  {
   "cell_type": "code",
   "execution_count": 32,
   "id": "3d516c77-b74b-4222-a13f-2cb3e4ad1d9b",
   "metadata": {},
   "outputs": [
    {
     "name": "stdout",
     "output_type": "stream",
     "text": [
      "2\n",
      "3\n",
      "5\n",
      "7\n",
      "11\n",
      "13\n",
      "17\n",
      "19\n",
      "23\n",
      "29\n",
      "31\n",
      "37\n",
      "41\n",
      "43\n",
      "47\n",
      "53\n",
      "59\n",
      "61\n",
      "67\n",
      "71\n"
     ]
    }
   ],
   "source": [
    "for i in range(20):\n",
    "    print(next(PrimeNum))"
   ]
  },
  {
   "cell_type": "code",
   "execution_count": null,
   "id": "44f59d3f-1f91-4fcd-a005-27a15d137cdc",
   "metadata": {},
   "outputs": [],
   "source": []
  }
 ],
 "metadata": {
  "kernelspec": {
   "display_name": "Python 3 (ipykernel)",
   "language": "python",
   "name": "python3"
  },
  "language_info": {
   "codemirror_mode": {
    "name": "ipython",
    "version": 3
   },
   "file_extension": ".py",
   "mimetype": "text/x-python",
   "name": "python",
   "nbconvert_exporter": "python",
   "pygments_lexer": "ipython3",
   "version": "3.10.8"
  }
 },
 "nbformat": 4,
 "nbformat_minor": 5
}
