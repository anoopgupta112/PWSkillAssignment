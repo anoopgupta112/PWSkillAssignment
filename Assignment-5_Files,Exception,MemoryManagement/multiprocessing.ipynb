{
 "cells": [
  {
   "cell_type": "markdown",
   "id": "399ab822-b5b4-40ee-8889-fbeae3c21876",
   "metadata": {},
   "source": [
    "### Q1. What is multiprocessing in python? Why is it useful?"
   ]
  },
  {
   "cell_type": "markdown",
   "id": "433cdc2b-4cad-4a4b-8a3a-6ffc1b23c7c0",
   "metadata": {},
   "source": [
    "### Answer: Multiprocessing is a module that allows you to create and manage multiple processes, enabling concurrent execution of tasks. It provides an interface for spawning processes, passing data between them, and synchronizing their execution.\n",
    "\n",
    "### Multiprocessing is useful for several reasons:\n",
    "\n",
    "### Parallel Execution: By utilizing  multiple processes, you can perform tasks simultaneously, taking advantage of modern multi-core processors. This leads to improved performance and faster execution of computationally intensive or time-consuming tasks.\n",
    "\n",
    "### Increased Throughput: When dealing with a large amount of tasks,  multiprocessing allows you to divide the workload among multiple processes, enabling you to process more data within the same time frame."
   ]
  },
  {
   "cell_type": "markdown",
   "id": "e6ef42cd-dd89-456d-a192-f6bbdb2748c9",
   "metadata": {},
   "source": [
    "### Q2. What are the differences between multiprocessing and multithreading?"
   ]
  },
  {
   "cell_type": "markdown",
   "id": "17265fc4-4e91-44d6-948c-e6c606215027",
   "metadata": {},
   "source": [
    "### Answer. Here is the differences between multiprocessing and multithreading.\n",
    "### Execution Model: Multiprocessing involves running multiple processes, where each process has its own memory space and runs independently. In contrast, multithreading involves  running multiple threads within a single process, sharing the same memory space.\n",
    "\n",
    "### Parallelism: Multiprocessing achieves true parallelism by utilizing multiple CPUs or CPU cores. Each process runs on a separate core, allowing tasks to be executed simultaneously. Multithreading, on the other hand, typically runs on a single CPU and achieves concurrency through interleaved execution of  threads.\n",
    "### Resource Allocation: Multiprocessing allows each process to have its own set of system resources, such as memory. Threads, in contrast, share the same memory  space within a process,  which requires careful management to avoid conflicts and race conditions.\n",
    "\n",
    "### Complexity: Multithreading is generally easier to work with compared to multiprocessing.  Sharing data between threads is more straightforward, as they can directly access the same memory space.\n"
   ]
  },
  {
   "cell_type": "markdown",
   "id": "c246211f-3a3f-461c-8785-4ddaa37e54e3",
   "metadata": {},
   "source": [
    "### Q3. Write a python code to create a process using the multiprocessing module."
   ]
  },
  {
   "cell_type": "code",
   "execution_count": 1,
   "id": "40ff606b-d7c3-4226-b54e-76afcc315882",
   "metadata": {},
   "outputs": [
    {
     "name": "stdout",
     "output_type": "stream",
     "text": [
      "tis is my main\n",
      "this is my multiprocessing prog\n"
     ]
    }
   ],
   "source": [
    "import multiprocessing\n",
    "\n",
    "def test():\n",
    "    print(\"this is my multiprocessing prog\")\n",
    "    \n",
    "if __name__ == \"__main__\":\n",
    "    m = multiprocessing.Process(target = test)\n",
    "    print(\"tis is my main\")\n",
    "    m.start()\n",
    "    m.join()"
   ]
  },
  {
   "cell_type": "markdown",
   "id": "3bedd6c5-f133-46e2-904c-5ce6629c04dd",
   "metadata": {},
   "source": [
    "### Q4. What is a multiprocessing pool in python? Why is it used?"
   ]
  },
  {
   "cell_type": "markdown",
   "id": "b6438226-bca3-4a14-b8fa-e2df55b5b44e",
   "metadata": {},
   "source": [
    "### It allows you to create a pool of worker processes that can execute tasks in parallel. The pool distributes the tasks among the available processes, making it easier to parallelize and manage the execution of a large number of tasks.\n",
    "\n",
    "### Here's an explanation of why multiprocessing pools are used:\n",
    "\n",
    "### Concurrent Execution: A multiprocessing pool enables concurrent execution of tasks by utilizing multiple processes. It allows you to divide a large workload into  smaller tasks and distribute them among the available processes and enabling parallel execution and reducing the overall execution time.\n",
    "\n",
    "### Resource Utilization: By utilizing a pool of worker processes, you can fully leverage the available system resources, such as multiple CPU cores. Each process in the pool can handle a separate task simultaneously, enabling efficient utilization of the available processing power.\n",
    "\n",
    "### Result Gathering: The multiprocessing pool provides mechanisms to retrieve the results of the executed tasks and  It allows you to collect the results in the order of task completion  or as soon as they become available. This makes it convenient to process and analyze the results of parallel computations.\n",
    "\n"
   ]
  },
  {
   "cell_type": "markdown",
   "id": "d382e461-b1a1-45ed-947e-81f5e37b65db",
   "metadata": {},
   "source": [
    "### Q5. How can we create a pool of worker processes in python using the multiprocessing module?"
   ]
  },
  {
   "cell_type": "markdown",
   "id": "773adf35-f3da-40e9-b11f-4d28e7a7eaba",
   "metadata": {},
   "source": [
    "### Answer: To create a pool of worker  processes in Python using the multiprocessing module\n",
    "### Here is example\n"
   ]
  },
  {
   "cell_type": "code",
   "execution_count": 2,
   "id": "7143de16-c7f8-4aa2-b9e5-880c47bc6dac",
   "metadata": {},
   "outputs": [
    {
     "name": "stdout",
     "output_type": "stream",
     "text": [
      "[68, 12, 12, 6, 4, 4, 12]\n"
     ]
    }
   ],
   "source": [
    "def mulByTwo(n):\n",
    "    return n*2\n",
    "if __name__ == \"__main__\":\n",
    "    with multiprocessing.Pool(processes = 5) as pool:\n",
    "        out = pool.map(mulByTwo, [34,6,6,3,2,2,6])\n",
    "        print(out)"
   ]
  },
  {
   "cell_type": "markdown",
   "id": "3089c90b-0b09-49d7-93aa-32f99eb6c6e9",
   "metadata": {},
   "source": [
    "### Q6. Write a python program to create 4 processes, each process should print a different number using the multiprocessing module in python."
   ]
  },
  {
   "cell_type": "code",
   "execution_count": 10,
   "id": "3f5cce47-88ea-4bc3-92fc-bb1fb101c58c",
   "metadata": {},
   "outputs": [
    {
     "name": "stdout",
     "output_type": "stream",
     "text": [
      "[1156, 36, 36, 900]\n"
     ]
    }
   ],
   "source": [
    "import multiprocessing\n",
    "\n",
    "def square(n):\n",
    "    return n ** 2\n",
    "\n",
    "if __name__ == \"__main__\":\n",
    "    \n",
    "    with multiprocessing.Pool(processes=4) as pool:\n",
    "        output = pool.map(square, [34, 6, 6, 30])\n",
    "        print(output)\n"
   ]
  },
  {
   "cell_type": "code",
   "execution_count": null,
   "id": "d80bc093-6e79-4e17-a009-3abbf8c03cab",
   "metadata": {},
   "outputs": [],
   "source": []
  }
 ],
 "metadata": {
  "kernelspec": {
   "display_name": "Python 3 (ipykernel)",
   "language": "python",
   "name": "python3"
  },
  "language_info": {
   "codemirror_mode": {
    "name": "ipython",
    "version": 3
   },
   "file_extension": ".py",
   "mimetype": "text/x-python",
   "name": "python",
   "nbconvert_exporter": "python",
   "pygments_lexer": "ipython3",
   "version": "3.10.8"
  }
 },
 "nbformat": 4,
 "nbformat_minor": 5
}
