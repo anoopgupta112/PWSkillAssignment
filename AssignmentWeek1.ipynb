{
 "cells": [
  {
   "cell_type": "code",
   "execution_count": 1,
   "id": "3ef7ff9e-9b1c-46bc-ac77-12e229e9d2c5",
   "metadata": {},
   "outputs": [],
   "source": [
    "Str = \"anoop\""
   ]
  },
  {
   "cell_type": "code",
   "execution_count": 2,
   "id": "ba52002f-2b5f-4092-b7dc-94ca19c1cc2e",
   "metadata": {},
   "outputs": [
    {
     "data": {
      "text/plain": [
       "'anoop'"
      ]
     },
     "execution_count": 2,
     "metadata": {},
     "output_type": "execute_result"
    }
   ],
   "source": [
    "Str\n"
   ]
  },
  {
   "cell_type": "code",
   "execution_count": 3,
   "id": "185edc12-25bd-486d-8dec-bfcfd84491f6",
   "metadata": {},
   "outputs": [],
   "source": [
    "dum_list = [1,2,3,\"hello\", False]"
   ]
  },
  {
   "cell_type": "code",
   "execution_count": 4,
   "id": "fce94cb1-c102-4bb5-9c74-fc0b174ad2f9",
   "metadata": {},
   "outputs": [
    {
     "data": {
      "text/plain": [
       "[1, 2, 3, 'hello', False]"
      ]
     },
     "execution_count": 4,
     "metadata": {},
     "output_type": "execute_result"
    }
   ],
   "source": [
    "dum_list"
   ]
  },
  {
   "cell_type": "code",
   "execution_count": 5,
   "id": "eefa4942-c376-46fa-a4ba-127d155ce3d8",
   "metadata": {},
   "outputs": [],
   "source": [
    "dum_float = 99.99"
   ]
  },
  {
   "cell_type": "code",
   "execution_count": 6,
   "id": "aff5634f-1490-4420-a46a-0e4629aa69a6",
   "metadata": {},
   "outputs": [
    {
     "data": {
      "text/plain": [
       "99.99"
      ]
     },
     "execution_count": 6,
     "metadata": {},
     "output_type": "execute_result"
    }
   ],
   "source": [
    "dum_float"
   ]
  },
  {
   "cell_type": "code",
   "execution_count": 7,
   "id": "be5956b4-99f2-4abf-8b60-fb653772a570",
   "metadata": {},
   "outputs": [],
   "source": [
    "dum_tuple = (1, 9.24, True, \"anoop\")\n"
   ]
  },
  {
   "cell_type": "code",
   "execution_count": 8,
   "id": "5626f7f4-feef-40cc-8adc-b77ebe4a9acc",
   "metadata": {},
   "outputs": [
    {
     "data": {
      "text/plain": [
       "(1, 9.24, True, 'anoop')"
      ]
     },
     "execution_count": 8,
     "metadata": {},
     "output_type": "execute_result"
    }
   ],
   "source": [
    "dum_tuple"
   ]
  },
  {
   "cell_type": "code",
   "execution_count": 12,
   "id": "8c519eea-340b-4f33-8184-256611182fe1",
   "metadata": {},
   "outputs": [
    {
     "data": {
      "text/plain": [
       "str"
      ]
     },
     "execution_count": 12,
     "metadata": {},
     "output_type": "execute_result"
    }
   ],
   "source": [
    "var1 = ' '\n",
    "var2 = '[ DS , ML , Python]'\n",
    "var3 = [ 'DS' , 'ML' , 'Python' ]\n",
    "var4 = 1\n",
    "type(var1)\n"
   ]
  },
  {
   "cell_type": "code",
   "execution_count": 13,
   "id": "28fd7a8e-c2f1-41e5-91b6-94fb18d1e53b",
   "metadata": {},
   "outputs": [
    {
     "data": {
      "text/plain": [
       "str"
      ]
     },
     "execution_count": 13,
     "metadata": {},
     "output_type": "execute_result"
    }
   ],
   "source": [
    "type(var2)\n"
   ]
  },
  {
   "cell_type": "code",
   "execution_count": 14,
   "id": "62184f7e-0733-407a-85e5-8c1179cc3719",
   "metadata": {},
   "outputs": [
    {
     "data": {
      "text/plain": [
       "list"
      ]
     },
     "execution_count": 14,
     "metadata": {},
     "output_type": "execute_result"
    }
   ],
   "source": [
    "type(var3)\n"
   ]
  },
  {
   "cell_type": "code",
   "execution_count": 15,
   "id": "29ac5a6c-a2d6-459c-b9cd-155d8dd8c4fd",
   "metadata": {},
   "outputs": [
    {
     "data": {
      "text/plain": [
       "int"
      ]
     },
     "execution_count": 15,
     "metadata": {},
     "output_type": "execute_result"
    }
   ],
   "source": [
    "type(var4)"
   ]
  },
  {
   "cell_type": "code",
   "execution_count": 16,
   "id": "982566fb-6bfd-47d1-a4bd-202493f62741",
   "metadata": {},
   "outputs": [
    {
     "data": {
      "text/plain": [
       "3.3333333333333335"
      ]
     },
     "execution_count": 16,
     "metadata": {},
     "output_type": "execute_result"
    }
   ],
   "source": [
    "a = 10\n",
    "b = 3\n",
    "result = a / b\n",
    "result"
   ]
  },
  {
   "cell_type": "code",
   "execution_count": 18,
   "id": "fb8c795a-be56-49de-8067-3b0807493cdd",
   "metadata": {},
   "outputs": [
    {
     "data": {
      "text/plain": [
       "1"
      ]
     },
     "execution_count": 18,
     "metadata": {},
     "output_type": "execute_result"
    }
   ],
   "source": [
    "a = 10\n",
    "b = 3\n",
    "result2 = a % b\n",
    "result2"
   ]
  },
  {
   "cell_type": "code",
   "execution_count": 19,
   "id": "bf2d5dd5-9984-4062-9c61-0338d7a998cc",
   "metadata": {},
   "outputs": [
    {
     "data": {
      "text/plain": [
       "3"
      ]
     },
     "execution_count": 19,
     "metadata": {},
     "output_type": "execute_result"
    }
   ],
   "source": [
    "a = 10\n",
    "b = 3\n",
    "result3 = a // b\n",
    "result3"
   ]
  },
  {
   "cell_type": "code",
   "execution_count": 20,
   "id": "2bc04411-0b7b-42e7-8b39-19d0a7704dd7",
   "metadata": {},
   "outputs": [
    {
     "data": {
      "text/plain": [
       "8"
      ]
     },
     "execution_count": 20,
     "metadata": {},
     "output_type": "execute_result"
    }
   ],
   "source": [
    "a = 2\n",
    "b = 3\n",
    "result4 = a ** b\n",
    "result4"
   ]
  },
  {
   "cell_type": "code",
   "execution_count": 22,
   "id": "9bfa6ebb-9595-4599-a40d-e848edaae2a3",
   "metadata": {},
   "outputs": [
    {
     "name": "stdout",
     "output_type": "stream",
     "text": [
      "1\n",
      "Data Type: <class 'int'>\n",
      "\n",
      "anoop\n",
      "Data Type: <class 'str'>\n",
      "\n",
      "23.32\n",
      "Data Type: <class 'float'>\n",
      "\n",
      "True\n",
      "Data Type: <class 'bool'>\n",
      "\n",
      "2\n",
      "Data Type: <class 'int'>\n",
      "\n",
      "ajay\n",
      "Data Type: <class 'str'>\n",
      "\n",
      "False\n",
      "Data Type: <class 'bool'>\n",
      "\n",
      "True\n",
      "Data Type: <class 'bool'>\n",
      "\n",
      "arun\n",
      "Data Type: <class 'str'>\n",
      "\n",
      "False\n",
      "Data Type: <class 'bool'>\n",
      "\n"
     ]
    }
   ],
   "source": [
    "dumm_list = [1, \"anoop\", 23.32, True, 2, \"ajay\", False, True, \"arun\", False]\n",
    "\n",
    "for i in dumm_list:\n",
    "    print(i)\n",
    "    print(\"Data Type:\", type(i))\n",
    "    print() "
   ]
  },
  {
   "cell_type": "code",
   "execution_count": 26,
   "id": "f1604cc4-7cd0-4198-9dd1-bb55df6ffa88",
   "metadata": {},
   "outputs": [
    {
     "data": {
      "text/plain": [
       "[1,\n",
       " 2,\n",
       " 3,\n",
       " 4,\n",
       " 5,\n",
       " 6,\n",
       " 7,\n",
       " 8,\n",
       " 9,\n",
       " 10,\n",
       " 11,\n",
       " 12,\n",
       " 13,\n",
       " 14,\n",
       " 15,\n",
       " 16,\n",
       " 17,\n",
       " 18,\n",
       " 19,\n",
       " 20,\n",
       " 21,\n",
       " 22,\n",
       " 23,\n",
       " 24,\n",
       " 25]"
      ]
     },
     "execution_count": 26,
     "metadata": {},
     "output_type": "execute_result"
    }
   ],
   "source": [
    "dum_list3 = list(range(1,26))\n",
    "dum_list3"
   ]
  },
  {
   "cell_type": "code",
   "execution_count": 27,
   "id": "b62af7f4-927e-4303-ab30-d7afbcd5bb00",
   "metadata": {},
   "outputs": [
    {
     "name": "stdout",
     "output_type": "stream",
     "text": [
      "1  not divisible by 3\n",
      "2  not divisible by 3\n",
      "3  divisible by 3\n",
      "4  not divisible by 3\n",
      "5  not divisible by 3\n",
      "6  divisible by 3\n",
      "7  not divisible by 3\n",
      "8  not divisible by 3\n",
      "9  divisible by 3\n",
      "10  not divisible by 3\n",
      "11  not divisible by 3\n",
      "12  divisible by 3\n",
      "13  not divisible by 3\n",
      "14  not divisible by 3\n",
      "15  divisible by 3\n",
      "16  not divisible by 3\n",
      "17  not divisible by 3\n",
      "18  divisible by 3\n",
      "19  not divisible by 3\n",
      "20  not divisible by 3\n",
      "21  divisible by 3\n",
      "22  not divisible by 3\n",
      "23  not divisible by 3\n",
      "24  divisible by 3\n",
      "25  not divisible by 3\n"
     ]
    }
   ],
   "source": [
    "for i in dum_list3:\n",
    "    if i % 3 == 0:\n",
    "        print(i, \" divisible by 3\")\n",
    "    else:\n",
    "        print(i, \" not divisible by 3\")"
   ]
  },
  {
   "cell_type": "code",
   "execution_count": 30,
   "id": "3a420930-adfc-46c6-96c2-1908f72ceae4",
   "metadata": {},
   "outputs": [
    {
     "data": {
      "text/plain": [
       "[9, 2, 3]"
      ]
     },
     "execution_count": 30,
     "metadata": {},
     "output_type": "execute_result"
    }
   ],
   "source": [
    " # Mutable data types can be modified after declear. Here is example\n",
    "dum_list4 = [1, 2, 3]\n",
    "\n",
    "dum_list4[0] = 9\n",
    "dum_list4 "
   ]
  },
  {
   "cell_type": "code",
   "execution_count": 32,
   "id": "6574ffb8-0839-4da9-a210-e3d88a7dc98c",
   "metadata": {},
   "outputs": [
    {
     "ename": "TypeError",
     "evalue": "'str' object does not support item assignment",
     "output_type": "error",
     "traceback": [
      "\u001b[0;31m---------------------------------------------------------------------------\u001b[0m",
      "\u001b[0;31mTypeError\u001b[0m                                 Traceback (most recent call last)",
      "Cell \u001b[0;32mIn[32], line 3\u001b[0m\n\u001b[1;32m      1\u001b[0m \u001b[38;5;66;03m# Immutable data types can not be modified after declear. Here is example\u001b[39;00m\n\u001b[1;32m      2\u001b[0m Str2 \u001b[38;5;241m=\u001b[39m \u001b[38;5;124m\"\u001b[39m\u001b[38;5;124manoop\u001b[39m\u001b[38;5;124m\"\u001b[39m\n\u001b[0;32m----> 3\u001b[0m \u001b[43mStr2\u001b[49m\u001b[43m[\u001b[49m\u001b[38;5;241;43m0\u001b[39;49m\u001b[43m]\u001b[49m \u001b[38;5;241m=\u001b[39m \u001b[38;5;124m\"\u001b[39m\u001b[38;5;124mz\u001b[39m\u001b[38;5;124m\"\u001b[39m\n",
      "\u001b[0;31mTypeError\u001b[0m: 'str' object does not support item assignment"
     ]
    }
   ],
   "source": [
    " # Immutable data types can not be modified after declear. Here is example\n",
    "Str2 = \"anoop\"\n",
    "Str2[0] = \"z\" # This will give an error"
   ]
  },
  {
   "cell_type": "code",
   "execution_count": null,
   "id": "c20162fa-f34b-41b5-afae-1d2f6241d922",
   "metadata": {},
   "outputs": [],
   "source": []
  }
 ],
 "metadata": {
  "kernelspec": {
   "display_name": "Python 3 (ipykernel)",
   "language": "python",
   "name": "python3"
  },
  "language_info": {
   "codemirror_mode": {
    "name": "ipython",
    "version": 3
   },
   "file_extension": ".py",
   "mimetype": "text/x-python",
   "name": "python",
   "nbconvert_exporter": "python",
   "pygments_lexer": "ipython3",
   "version": "3.10.8"
  }
 },
 "nbformat": 4,
 "nbformat_minor": 5
}
