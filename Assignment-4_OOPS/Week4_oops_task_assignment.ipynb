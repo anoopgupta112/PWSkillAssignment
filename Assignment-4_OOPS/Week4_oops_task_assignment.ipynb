{
 "cells": [
  {
   "cell_type": "markdown",
   "id": "b59a9fef-0aaf-46c5-99ec-c8c3c2a81cc5",
   "metadata": {},
   "source": [
    "### Q1, Create a vehicle class with an init method having instance variables as name_of_vehicle, max_speed and average_of_vehicle."
   ]
  },
  {
   "cell_type": "code",
   "execution_count": 4,
   "id": "f2a305de-9ac6-45e6-b303-05004a95a667",
   "metadata": {},
   "outputs": [],
   "source": [
    "# here is the answer\n",
    "class vehicle:\n",
    "    def __init__(self, name_of_vehicle, max_speed, average_of_vehicle):\n",
    "        self.name_of_vehicle = name_of_vehicle\n",
    "        self.max_speed = max_speed\n",
    "        self.average_of_vehicle = average_of_vehicle\n",
    " "
   ]
  },
  {
   "cell_type": "markdown",
   "id": "052d23da-799f-4eaf-9313-e700ca0374d0",
   "metadata": {},
   "source": [
    "### Q2. Create a child class car from the vehicle class created in Que 1, which will inherit the vehicle class.\n",
    "### Create a method named seating_capacity which takes capacity as an argument and returns the name of\n",
    "### the vehicle and its seating capacity."
   ]
  },
  {
   "cell_type": "code",
   "execution_count": 11,
   "id": "ba54cfea-62ad-4e8e-9c92-cd5345e0e83c",
   "metadata": {},
   "outputs": [
    {
     "data": {
      "text/plain": [
       "'The tesla have a seating capacity 6'"
      ]
     },
     "execution_count": 11,
     "metadata": {},
     "output_type": "execute_result"
    }
   ],
   "source": [
    "# inheriting the vehicle class form question 1\n",
    "    \n",
    "class Car(vehicle):\n",
    "    def seating_capacity(self, capacity):\n",
    "        return f\"The {self.name_of_vehicle} have a seating capacity {capacity}\"\n",
    "\n",
    "    \n",
    "obj = Car(\"tesla\", 90, 70)\n",
    "obj.seating_capacity(6)"
   ]
  },
  {
   "cell_type": "markdown",
   "id": "1a195ef2-94ee-4fd4-aea3-c957bd5a637e",
   "metadata": {},
   "source": [
    "### Q3. What is multiple inheritance? Write a python code to demonstrate multiple inheritance."
   ]
  },
  {
   "cell_type": "markdown",
   "id": "54f147f4-09d6-43d3-8cb5-21513a85172f",
   "metadata": {},
   "source": [
    "### Inheritance is one of the oops piller and It allows a new class to be derived from an existing class, inheriting its attributes and behavior. This is useful for creating new classes that are related to existing classes and share some of their functionality."
   ]
  },
  {
   "cell_type": "code",
   "execution_count": 13,
   "id": "7d519782-0e19-4f40-a7bf-6c80d7390d47",
   "metadata": {},
   "outputs": [
    {
     "name": "stdout",
     "output_type": "stream",
     "text": [
      "best to ride\n",
      "best for two people.\n"
     ]
    }
   ],
   "source": [
    "# example for multiple inheritance\n",
    "\n",
    "class bike:\n",
    "    def bike_data(self):\n",
    "        print(\"best to ride\")\n",
    "\n",
    "class car:\n",
    "    def car_data(self):\n",
    "        print(\"best for two people.\")\n",
    "\n",
    "class cycle_data(bike, car):\n",
    "    pass\n",
    "\n",
    "obj = cycle_data()\n",
    "\n",
    "obj.bike_data()\n",
    "obj.car_data()\n"
   ]
  },
  {
   "cell_type": "markdown",
   "id": "07d1746e-4f7e-4574-8a52-0d03c94d5686",
   "metadata": {},
   "source": [
    "### Q4. What are getter and setter in python? Create a class and create a getter and a setter method in this class."
   ]
  },
  {
   "cell_type": "markdown",
   "id": "1a1c633a-97e4-4529-9908-d84e50b790af",
   "metadata": {},
   "source": [
    "### getter: we use getter to get the value of private variable \n",
    "### setter: we use it to set the value of private attribute "
   ]
  },
  {
   "cell_type": "code",
   "execution_count": 19,
   "id": "833835ff-974b-494c-871f-9eb166ec7111",
   "metadata": {},
   "outputs": [
    {
     "name": "stdout",
     "output_type": "stream",
     "text": [
      "15\n",
      "28\n",
      "Invalid dimensions. Please provide positive values.\n"
     ]
    }
   ],
   "source": [
    "# Example\n",
    "\n",
    "class Rectangle:\n",
    "    def __init__(self, width, height):\n",
    "        \n",
    "        self._width = width\n",
    "        self._height = height\n",
    "\n",
    "    def get_area(self):\n",
    "        return self._width * self._height\n",
    "\n",
    "    def set_dimensions(self, width, height):\n",
    "        \n",
    "        if width > 0 and height > 0:\n",
    "            self._width = width\n",
    "            self._height = height\n",
    "        else:\n",
    "            print(\"Invalid dimensions. Please provide positive values.\")\n",
    "\n",
    "rect = Rectangle(5, 3)\n",
    "\n",
    "print(rect.get_area()) \n",
    "\n",
    "rect.set_dimensions(7, 4)\n",
    "\n",
    "print(rect.get_area())  \n",
    "\n",
    "rect.set_dimensions(-2, 5) \n"
   ]
  },
  {
   "cell_type": "markdown",
   "id": "f6c4e890-17af-4f82-a90c-d7152158913c",
   "metadata": {},
   "source": [
    "### Q5.What is method overriding in python? Write a python code to demonstrate method overriding."
   ]
  },
  {
   "cell_type": "markdown",
   "id": "44fe857f-0ea8-4dee-a19a-33d745e417ba",
   "metadata": {},
   "source": [
    "### Method overriding is a feature of Polymorphism in object-oriented programming where a subclass provides its own implementation of a method that is already defined in its parent class.\n"
   ]
  },
  {
   "cell_type": "code",
   "execution_count": 21,
   "id": "e95c3a3c-b4a0-4bac-83ad-c42490a2debe",
   "metadata": {},
   "outputs": [
    {
     "name": "stdout",
     "output_type": "stream",
     "text": [
      "None\n",
      "Woof!\n",
      "Meow!\n"
     ]
    }
   ],
   "source": [
    "# Eaxample of method overriding\n",
    "\n",
    "class Animal:\n",
    "    \n",
    "    def sound(self):\n",
    "        pass\n",
    "\n",
    "class Dog(Animal):\n",
    "    \n",
    "    def sound(self):\n",
    "        return \"Woof!\"\n",
    "\n",
    "class Cat(Animal):\n",
    "    \n",
    "    def sound(self):\n",
    "        return \"Meow!\"\n",
    "\n",
    "animal = Animal()\n",
    "dog = Dog()\n",
    "cat = Cat()\n",
    "\n",
    "print(animal.sound()) \n",
    "print(dog.sound())    \n",
    "print(cat.sound())    \n"
   ]
  },
  {
   "cell_type": "code",
   "execution_count": null,
   "id": "cfc340ae-b1f0-4519-bc34-bf7d3de3f016",
   "metadata": {},
   "outputs": [],
   "source": []
  }
 ],
 "metadata": {
  "kernelspec": {
   "display_name": "Python 3 (ipykernel)",
   "language": "python",
   "name": "python3"
  },
  "language_info": {
   "codemirror_mode": {
    "name": "ipython",
    "version": 3
   },
   "file_extension": ".py",
   "mimetype": "text/x-python",
   "name": "python",
   "nbconvert_exporter": "python",
   "pygments_lexer": "ipython3",
   "version": "3.10.8"
  }
 },
 "nbformat": 4,
 "nbformat_minor": 5
}
