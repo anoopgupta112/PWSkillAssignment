{
 "cells": [
  {
   "cell_type": "markdown",
   "id": "9da6a203-9295-4da2-928a-55df2124e318",
   "metadata": {},
   "source": [
    "### Q1. Explain Class and Object with respect to Object-Oriented Programming. Give a suitable example."
   ]
  },
  {
   "cell_type": "markdown",
   "id": "5d0645d9-c27d-4359-9406-2a5d20cf562e",
   "metadata": {},
   "source": [
    "### Answer: Class => A class is a blueprint for creating objects providing initial values, and implementations of behavior.\n",
    "\n",
    "### Object => An object is an instance of a class, created at runtime. Each object has its own unique set of attributes and methods that operate on that data."
   ]
  },
  {
   "cell_type": "code",
   "execution_count": 3,
   "id": "1f83affb-d2df-4ccd-a138-0df86a4f01b5",
   "metadata": {},
   "outputs": [
    {
     "name": "stdout",
     "output_type": "stream",
     "text": [
      "Tesla\n",
      "Model Y\n",
      " car name is : Tesla, and model is:  Model Y\n"
     ]
    }
   ],
   "source": [
    "# Example\n",
    "\n",
    "class Car:\n",
    "    def __init__(self, name, model):\n",
    "        self.name = name\n",
    "        self.model = model\n",
    "    \n",
    "    def descriptionOfcar(self):\n",
    "        return f\" car name is : {self.name}, and model is:  {self.model}\"\n",
    "\n",
    "my_car = Car(\"Tesla\", \"Model Y\")\n",
    "print(my_car.name) \n",
    "print(my_car.model) \n",
    "print(my_car.descriptionOfcar()) "
   ]
  },
  {
   "cell_type": "markdown",
   "id": "8b529587-aef8-4f8d-8f5d-f9b2b88a2c57",
   "metadata": {},
   "source": [
    "### Q2. Name the four pillars of OOPs."
   ]
  },
  {
   "cell_type": "markdown",
   "id": "4298db96-2a77-46ea-8ec3-2f2d4c325dce",
   "metadata": {},
   "source": [
    "### here is the name of 4 OOPs pillars"
   ]
  },
  {
   "cell_type": "markdown",
   "id": "fbe5e398-5072-40c8-b8fd-9bac7b62b507",
   "metadata": {},
   "source": [
    "1. Encapsulation\n",
    "2. Inheritance\n",
    "3. Polymorphism\n",
    "4. Abstraction"
   ]
  },
  {
   "cell_type": "markdown",
   "id": "027e43e1-3dac-4245-a641-1f2fd072a2fe",
   "metadata": {},
   "source": [
    "### Q3. Explain why the __init__() function is used. Give a suitable example.\n"
   ]
  },
  {
   "cell_type": "markdown",
   "id": "963793d8-9ac0-4c61-8293-27116c680c87",
   "metadata": {},
   "source": [
    "### It used to create constructor of the python class. It is automatically called when an object of the class is created. The init method is used to initialize the attributes of the class and set the default values."
   ]
  },
  {
   "cell_type": "markdown",
   "id": "bf04a2aa-106c-4c9c-86f0-fd8b2751702e",
   "metadata": {},
   "source": [
    "### we can use same example of question no. 1\n",
    "### here It is"
   ]
  },
  {
   "cell_type": "code",
   "execution_count": 9,
   "id": "72ffbc4e-7354-4abc-98e1-380307cd2930",
   "metadata": {},
   "outputs": [
    {
     "name": "stdout",
     "output_type": "stream",
     "text": [
      "this is car name  Tesla\n"
     ]
    }
   ],
   "source": [
    "# Example\n",
    "\n",
    "class Car:\n",
    "    def __init__(self, name, model):\n",
    "        \n",
    "        self.name = name\n",
    "        self.model = model\n",
    "        print(\"this is car name \",name)\n",
    "    \n",
    "\n",
    "my_car = Car(\"Tesla\", \"Model Y\")\n"
   ]
  },
  {
   "cell_type": "markdown",
   "id": "62a64f94-5a6f-4f3c-9b55-f767a30cf2c8",
   "metadata": {},
   "source": [
    "### Q4. Why self is used in OOPs?"
   ]
  },
  {
   "cell_type": "markdown",
   "id": "87533a66-3ea9-4eff-8e90-62a40dee8230",
   "metadata": {},
   "source": [
    "### It is used to access the attributes and methods of the class within the class. self is a reference to the current instance of the class."
   ]
  },
  {
   "cell_type": "markdown",
   "id": "9288c1e1-e436-4885-b01e-5a1f19906b70",
   "metadata": {},
   "source": [
    "### Q5. What is inheritance? Give an example for each type of inheritance."
   ]
  },
  {
   "cell_type": "markdown",
   "id": "56b7436b-7971-44c2-b3c3-06fb3c6a8541",
   "metadata": {},
   "source": [
    "### inheritance is a mechanism in object-oriented programming that allows a new class to be derived from an existing class, inheriting its attributes and behavior. This is useful for creating new classes that are related to existing classes and share some of their functionality.\n",
    "\n",
    "### here is types of Inheritance\n",
    "\n",
    "1. Single Inheritance\n",
    "### Single inheritance enables a derived class to inherit properties from a single parent class."
   ]
  },
  {
   "cell_type": "code",
   "execution_count": 2,
   "id": "d5b7be80-ab36-4dec-af0e-322ba59a0150",
   "metadata": {},
   "outputs": [
    {
     "name": "stdout",
     "output_type": "stream",
     "text": [
      "child class function.\n",
      "parent class function.\n"
     ]
    }
   ],
   "source": [
    "# example for single inheritance\n",
    "\n",
    "class Parent:\n",
    "    def ParentFunc(self):\n",
    "        print(\"parent class function.\")\n",
    "class Child(Parent):\n",
    "    def ChildFunc(self):\n",
    "        print(\"child class function.\")\n",
    "\n",
    "obj = Child()\n",
    "obj.ChildFunc()\n",
    "obj.ParentFunc()"
   ]
  },
  {
   "cell_type": "markdown",
   "id": "6827bd9e-216c-42b2-a70c-9043dd5994ef",
   "metadata": {},
   "source": [
    "### 2. Multiple Inheritance:\n",
    "### When a class can be derived from more than one base class then this is called multiple inheritances. In multiple inheritances, all the features of the base classes will be inherit into the derived class."
   ]
  },
  {
   "cell_type": "code",
   "execution_count": 12,
   "id": "d93fc2b4-33d0-4cf0-aa16-478d515f717d",
   "metadata": {},
   "outputs": [
    {
     "name": "stdout",
     "output_type": "stream",
     "text": [
      "best to ride\n",
      "best for two people.\n"
     ]
    }
   ],
   "source": [
    "# example for multiple inheritance\n",
    "\n",
    "class bike:\n",
    "    def bike_data(self):\n",
    "        print(\"best to ride\")\n",
    "\n",
    "class car:\n",
    "    def car_data(self):\n",
    "        print(\"best for two people.\")\n",
    "\n",
    "class cycle_data(bike, car):\n",
    "    pass\n",
    "\n",
    "obj = cycle_data()\n",
    "\n",
    "obj.bike_data()\n",
    "obj.car_data()\n"
   ]
  },
  {
   "cell_type": "markdown",
   "id": "139f5499-1792-42f0-a514-47e3ab9b7993",
   "metadata": {},
   "source": [
    "### 3. Hybrid Inheritance:\n",
    "It consisting of multiple types of inheritance is called hybrid inheritance."
   ]
  },
  {
   "cell_type": "code",
   "execution_count": 17,
   "id": "a409ec9e-d672-49bd-bba6-464a9cb78603",
   "metadata": {},
   "outputs": [
    {
     "name": "stdout",
     "output_type": "stream",
     "text": [
      "This is Laptop class inheriting PC class\n",
      "This is PC class\n"
     ]
    }
   ],
   "source": [
    "#Example_Hybrid_inheritance\n",
    "class PC:\n",
    "    \n",
    "    def fun1(self):\n",
    "        print(\"This is PC class\")\n",
    "\n",
    "class Laptop(PC):\n",
    "    def fun2(self):\n",
    "        print(\"This is Laptop class inheriting PC class\")\n",
    "\n",
    "class Mouse(Laptop):\n",
    "    def fun3(self):\n",
    "        print(\"This is Mouse class inheriting Laptop class\")\n",
    "\n",
    "class Student(Mouse, Laptop):\n",
    "    def fun4(self):\n",
    "        print(\"This is Student class inheriting PC and Laptop\")\n",
    "\n",
    "obj = Student()\n",
    "obj1 = Mouse()\n",
    "obj.fun2()\n",
    "obj.fun1()"
   ]
  },
  {
   "cell_type": "markdown",
   "id": "f622476a-54a1-408a-a0bf-ccc407ec3b4f",
   "metadata": {},
   "source": [
    "### 4. Multilevel Inheritance :\n",
    "### In multilevel inheritance, features of the base class and the derived class are further inherited into the new derived class. This is similar to a relationship representing a child and a grandfather.### "
   ]
  },
  {
   "cell_type": "code",
   "execution_count": 24,
   "id": "d55d0307-63e9-46f2-b890-9aa459c4b617",
   "metadata": {},
   "outputs": [
    {
     "name": "stdout",
     "output_type": "stream",
     "text": [
      "Amazon : Online E-commerce Store popularity of 120\n",
      "Ebay : Online Store popularity of 30\n"
     ]
    }
   ],
   "source": [
    "#example of multilevel inheritance\n",
    "\n",
    "class Brands:                     \n",
    "    brand_name_1 = \"Amazon\"\n",
    "    brand_name_2 = \"Ebay\"\n",
    " \n",
    "    \n",
    "class Products(Brands):           \n",
    "    prod_1 = \"Online E-commerce Store\"\n",
    "    prod_2 = \"Online Store\"\n",
    "\n",
    "\n",
    "class Popularity(Products):        \n",
    "    prod_1_popularity = 120\n",
    "    prod_2_popularity = 30\n",
    "\n",
    "    \n",
    "    \n",
    "obj_1 = Popularity()         \n",
    "print(obj_1.brand_name_1+\" : \"+obj_1.prod_1+\" popularity of \"+str(obj_1.prod_1_popularity))\n",
    "print(obj_1.brand_name_2+\" : \"+obj_1.prod_2+\" popularity of \"+str(obj_1.prod_2_popularity))\n"
   ]
  },
  {
   "cell_type": "markdown",
   "id": "7611032c-05a1-46cb-b13e-d01f2cc0cb56",
   "metadata": {},
   "source": [
    "### 5. Hierarchical Inheritance:\n",
    "### In hierarchical inheritance, more than one derived class are created from a single base."
   ]
  },
  {
   "cell_type": "code",
   "execution_count": 25,
   "id": "a35c3dc5-e043-4a23-90d7-db672e90b7a2",
   "metadata": {},
   "outputs": [
    {
     "ename": "NameError",
     "evalue": "name 'Bird' is not defined",
     "output_type": "error",
     "traceback": [
      "\u001b[0;31m---------------------------------------------------------------------------\u001b[0m",
      "\u001b[0;31mNameError\u001b[0m                                 Traceback (most recent call last)",
      "Cell \u001b[0;32mIn[26], line 15\u001b[0m\n\u001b[1;32m     10\u001b[0m     \u001b[38;5;28;01mdef\u001b[39;00m \u001b[38;5;21mfly\u001b[39m(\u001b[38;5;28mself\u001b[39m):\n\u001b[1;32m     11\u001b[0m         \u001b[38;5;28mprint\u001b[39m(\u001b[38;5;124m\"\u001b[39m\u001b[38;5;124mFlying!\u001b[39m\u001b[38;5;124m\"\u001b[39m)\n\u001b[0;32m---> 15\u001b[0m bird \u001b[38;5;241m=\u001b[39m \u001b[43mBird\u001b[49m()\n\u001b[1;32m     16\u001b[0m bird\u001b[38;5;241m.\u001b[39mset_name(\u001b[38;5;124m\"\u001b[39m\u001b[38;5;124mSparrow\u001b[39m\u001b[38;5;124m\"\u001b[39m)\n\u001b[1;32m     17\u001b[0m bird\u001b[38;5;241m.\u001b[39meat()\n",
      "\u001b[0;31mNameError\u001b[0m: name 'Bird' is not defined"
     ]
    }
   ],
   "source": [
    "class Animal:\n",
    "    def set_name(self, name):\n",
    "        self.name = name\n",
    "\n",
    "    def eat(self):\n",
    "        print(f\"{self.name} is eating.\")\n",
    "\n",
    "\n",
    "class Flyable:\n",
    "    def fly(self):\n",
    "        print(\"Flying!\")\n",
    "\n",
    "\n",
    "\n",
    "bird = Bird()\n",
    "bird.set_name(\"Sparrow\")\n",
    "bird.eat()\n",
    "bird.fly()\n",
    "\n",
    "bat = Bat()\n",
    "bat.set_name(\"Fruit Bat\")\n",
    "bat.eat()\n",
    "bat.sleep()\n",
    "bat.fly()\n"
   ]
  },
  {
   "cell_type": "code",
   "execution_count": null,
   "id": "68604e2d-f576-404a-82f6-a5bf7b06b73b",
   "metadata": {},
   "outputs": [],
   "source": []
  }
 ],
 "metadata": {
  "kernelspec": {
   "display_name": "Python 3 (ipykernel)",
   "language": "python",
   "name": "python3"
  },
  "language_info": {
   "codemirror_mode": {
    "name": "ipython",
    "version": 3
   },
   "file_extension": ".py",
   "mimetype": "text/x-python",
   "name": "python",
   "nbconvert_exporter": "python",
   "pygments_lexer": "ipython3",
   "version": "3.10.8"
  }
 },
 "nbformat": 4,
 "nbformat_minor": 5
}
