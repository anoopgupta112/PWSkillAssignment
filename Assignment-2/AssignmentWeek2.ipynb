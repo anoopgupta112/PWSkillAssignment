{
 "cells": [
  {
   "cell_type": "markdown",
   "id": "b3f18e67-698f-4669-afd8-d412737b1b90",
   "metadata": {},
   "source": [
    "## Q1. How do you comment code in Python? What are the different types of comments?\n"
   ]
  },
  {
   "cell_type": "markdown",
   "id": "f776bf3b-eedc-4225-94cb-487c82fc78a9",
   "metadata": {},
   "source": [
    "### There are two types of comments in Python:  single-line comment and multi-line comment."
   ]
  },
  {
   "cell_type": "markdown",
   "id": "3ce3abe0-17fd-42cb-9be5-f88d21768e88",
   "metadata": {},
   "source": [
    "### single-line comment: It starts with hash(#)"
   ]
  },
  {
   "cell_type": "code",
   "execution_count": 1,
   "id": "2b65264e-7fbe-41fe-a6a6-6d8cb4b4b4eb",
   "metadata": {},
   "outputs": [],
   "source": [
    "# here is example of single line of the comment\n"
   ]
  },
  {
   "cell_type": "markdown",
   "id": "599b16f3-f80c-4d9e-8335-43dc218fbde5",
   "metadata": {},
   "source": [
    "### multi-line comment : It starts with triple quotes (\"\"\" or ''')"
   ]
  },
  {
   "cell_type": "code",
   "execution_count": 8,
   "id": "8c04ffc2-353c-4505-a33c-54296fca511c",
   "metadata": {},
   "outputs": [
    {
     "data": {
      "text/plain": [
       "'This is example of multi-line comment\\nfirst line\\nsecond line \\nthird line '"
      ]
     },
     "execution_count": 8,
     "metadata": {},
     "output_type": "execute_result"
    }
   ],
   "source": [
    "\"\"\"This is example of multi-line comment\n",
    "first line\n",
    "second line \n",
    "third line \"\"\""
   ]
  },
  {
   "cell_type": "markdown",
   "id": "ad547bf7-036b-4128-b5bc-c3f3ae3e5359",
   "metadata": {},
   "source": [
    "## Q2. What are variables in Python? How do you declare and assign values to variables?\n"
   ]
  },
  {
   "cell_type": "markdown",
   "id": "1c199dc8-611f-4341-a2e0-14c87563fa26",
   "metadata": {},
   "source": [
    "### Variables are used to store the data which we can use according to our code and also can manipulate throughout the program. It is a name of the loaction in computer's memory where you can store and retrive the data."
   ]
  },
  {
   "cell_type": "markdown",
   "id": "c01824ca-63f9-4a42-a8df-22aa380aedd9",
   "metadata": {},
   "source": [
    "### declearing a variable "
   ]
  },
  {
   "cell_type": "code",
   "execution_count": 9,
   "id": "9f7a52e3-bc78-464a-a774-816e343ebd61",
   "metadata": {},
   "outputs": [
    {
     "name": "stdout",
     "output_type": "stream",
     "text": [
      "Variable data\n"
     ]
    }
   ],
   "source": [
    "a = \"Variable data\"\n",
    "print(a)"
   ]
  },
  {
   "cell_type": "markdown",
   "id": "2b8cf6ce-3e8e-4da0-a21f-fa1aef6227a7",
   "metadata": {},
   "source": [
    "### Q3. How do you convert one data type to another in Python?"
   ]
  },
  {
   "cell_type": "markdown",
   "id": "a4c013ce-a8aa-473a-bc61-14e96e1a8a68",
   "metadata": {},
   "source": [
    "### To convert one data type to another we have to use type conversion functons \n",
    "### example : "
   ]
  },
  {
   "cell_type": "code",
   "execution_count": 12,
   "id": "ae354498-58fd-4b1d-beee-912642dda3fe",
   "metadata": {},
   "outputs": [
    {
     "name": "stdout",
     "output_type": "stream",
     "text": [
      "<class 'int'>\n",
      "<class 'float'>\n"
     ]
    }
   ],
   "source": [
    "# This is the int data\n",
    "x = 33\n",
    "print(type(x))\n",
    "# here is a float() converting data in the floating data type\n",
    "y = float(x)\n",
    "print(type(y))\n"
   ]
  },
  {
   "cell_type": "markdown",
   "id": "8f44424f-40ab-4604-9a35-7bd3a2c28d13",
   "metadata": {},
   "source": [
    "### example 2: "
   ]
  },
  {
   "cell_type": "code",
   "execution_count": 15,
   "id": "13cf79d3-9c61-4d2a-bf89-c85340195ce4",
   "metadata": {},
   "outputs": [
    {
     "name": "stdout",
     "output_type": "stream",
     "text": [
      "<class 'list'>\n",
      "<class 'tuple'>\n"
     ]
    }
   ],
   "source": [
    "# converting list to the tuple\n",
    "a = [1,2,3]\n",
    "print(type(a))\n",
    "\n",
    "b = tuple(a)\n",
    "print(type(b))\n"
   ]
  },
  {
   "cell_type": "markdown",
   "id": "678ef942-5c7f-43cc-99db-04a7773efe91",
   "metadata": {},
   "source": [
    "### Q4. How do you write and execute a Python script from the command line?"
   ]
  },
  {
   "cell_type": "markdown",
   "id": "e73f5ba5-b686-4abf-867e-c8367567d8aa",
   "metadata": {},
   "source": [
    "### Write python code in any of the text editor like VS Code, Nodepad and create a file name with extension of .py example: fileName.py\n",
    "### To execute to fileName.py, python should be installed in the machine and environment PATH should be added in the system.\n",
    "### Now open cmd and go to that location where python file is present or if you are in vs code the right click on file and click on open integral termial, next you have to write python fileName.py and click enter "
   ]
  },
  {
   "cell_type": "markdown",
   "id": "418ea5c5-4bbf-4d26-8f6f-1490f8183e76",
   "metadata": {},
   "source": [
    "### Q5. Given a list my_list = [1, 2, 3, 4, 5], write the code to slice the list and obtain the sub-list [2, 3]."
   ]
  },
  {
   "cell_type": "code",
   "execution_count": 16,
   "id": "82dfdac2-7098-4dbb-8258-ed5048463c80",
   "metadata": {},
   "outputs": [
    {
     "data": {
      "text/plain": [
       "[2, 3]"
      ]
     },
     "execution_count": 16,
     "metadata": {},
     "output_type": "execute_result"
    }
   ],
   "source": [
    "my_list = [1, 2, 3, 4, 5]\n",
    "my_list[1:3:1]"
   ]
  },
  {
   "cell_type": "markdown",
   "id": "4a957153-a2f1-4d3d-9416-acc5572a61b7",
   "metadata": {},
   "source": [
    "### Q6. What is a complex number in mathematics, and how is it represented in Python?"
   ]
  },
  {
   "cell_type": "markdown",
   "id": "6d2ca006-3ded-4665-b641-d7c13082afb8",
   "metadata": {},
   "source": [
    "### In mathematics, a complex number is a number that can be expressed in the form of a + bi, and here a and b are real numbers. \n",
    "### here is the example\n",
    "\n"
   ]
  },
  {
   "cell_type": "code",
   "execution_count": 18,
   "id": "7b910135-cf2f-4e6f-b60f-eada8161f344",
   "metadata": {},
   "outputs": [
    {
     "name": "stdout",
     "output_type": "stream",
     "text": [
      "(2+1j)\n"
     ]
    }
   ],
   "source": [
    "cmplx = 2 + 1j\n",
    "print(cmplx) "
   ]
  },
  {
   "cell_type": "markdown",
   "id": "5d4f9bab-67cd-4de1-9329-0313130a0a82",
   "metadata": {},
   "source": [
    "### Q7. What is the correct way to declare a variable named age and assign the value 25 to it?"
   ]
  },
  {
   "cell_type": "code",
   "execution_count": 20,
   "id": "282bb443-0c87-43e1-822e-954253e504aa",
   "metadata": {},
   "outputs": [
    {
     "name": "stdout",
     "output_type": "stream",
     "text": [
      "25\n"
     ]
    }
   ],
   "source": [
    "age = 25\n",
    "print(age)"
   ]
  },
  {
   "cell_type": "markdown",
   "id": "41568735-a092-4295-ad35-c609c959eb59",
   "metadata": {},
   "source": [
    "### Q8. Declare a variable named price and assign the value 9.99 to it. What data type does this variable belong to?"
   ]
  },
  {
   "cell_type": "code",
   "execution_count": 21,
   "id": "28bb26d3-7447-4ffc-baa5-4b515aab1e6a",
   "metadata": {},
   "outputs": [
    {
     "data": {
      "text/plain": [
       "float"
      ]
     },
     "execution_count": 21,
     "metadata": {},
     "output_type": "execute_result"
    }
   ],
   "source": [
    "# data type is float\n",
    "price=9.99\n",
    "type(price)"
   ]
  },
  {
   "cell_type": "markdown",
   "id": "e32a4003-1e63-443f-833f-7e504391ddef",
   "metadata": {},
   "source": [
    "### Q9. Create a variable named name and assign your full name to it as a string. How would you print the value of this variable?"
   ]
  },
  {
   "cell_type": "code",
   "execution_count": 22,
   "id": "b00dbf79-d1fe-42ce-a03f-25070eac14b1",
   "metadata": {},
   "outputs": [
    {
     "name": "stdout",
     "output_type": "stream",
     "text": [
      "Anoop Chandra\n"
     ]
    }
   ],
   "source": [
    "name=\"Anoop Chandra\"\n",
    "print(name)"
   ]
  },
  {
   "cell_type": "markdown",
   "id": "f7ef9d80-eeff-4693-b6fb-4c71e70c8059",
   "metadata": {},
   "source": [
    "### Q10. Given the string \"Hello, World!\", extract the substring \"World\"."
   ]
  },
  {
   "cell_type": "code",
   "execution_count": 25,
   "id": "11c8a953-e0dd-4583-a861-b28a48565f02",
   "metadata": {},
   "outputs": [
    {
     "name": "stdout",
     "output_type": "stream",
     "text": [
      "World\n"
     ]
    }
   ],
   "source": [
    "a=\"Hello, World!\"\n",
    "b=a[7:12]\n",
    "print(b)"
   ]
  },
  {
   "cell_type": "markdown",
   "id": "718690f2-ef11-43ff-ba84-3857d872c1c9",
   "metadata": {},
   "source": [
    "### Q11. Create a variable named \"is_student\" and assign it a boolean value indicating whether you are currently a student or not."
   ]
  },
  {
   "cell_type": "code",
   "execution_count": 26,
   "id": "52a092e4-76c8-4dcb-9463-b309ea6c2383",
   "metadata": {},
   "outputs": [],
   "source": [
    "# I'm student\n",
    "is_student=True \n",
    "\n",
    "# I'm not student\n",
    "is_student= False"
   ]
  }
 ],
 "metadata": {
  "kernelspec": {
   "display_name": "Python 3 (ipykernel)",
   "language": "python",
   "name": "python3"
  },
  "language_info": {
   "codemirror_mode": {
    "name": "ipython",
    "version": 3
   },
   "file_extension": ".py",
   "mimetype": "text/x-python",
   "name": "python",
   "nbconvert_exporter": "python",
   "pygments_lexer": "ipython3",
   "version": "3.10.8"
  }
 },
 "nbformat": 4,
 "nbformat_minor": 5
}
