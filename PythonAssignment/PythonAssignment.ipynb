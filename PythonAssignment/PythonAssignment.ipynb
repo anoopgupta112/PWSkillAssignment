{
 "cells": [
  {
   "cell_type": "markdown",
   "id": "f73d2c71-67bb-4b35-8ee3-7df01b0239b0",
   "metadata": {},
   "source": [
    "### Q1. Create a python program to sort the given list of tuples based on integer value using a\n",
    "### lambda function.\n",
    "### [('Sachin Tendulkar', 34357), ('Ricky Ponting', 27483), ('Jack Kallis', 25534), ('Virat Kohli', 24936)]"
   ]
  },
  {
   "cell_type": "code",
   "execution_count": 2,
   "id": "b4cc6f3b-060a-4b87-8b8b-7146d0b633df",
   "metadata": {},
   "outputs": [],
   "source": [
    "l=[('Sachin Tendulkar', 34357), ('Ricky Ponting', 27483), ('Jack Kallis', 25534), ('Virat Kohli', 24936)]"
   ]
  },
  {
   "cell_type": "code",
   "execution_count": 8,
   "id": "3ee8c52b-e2c9-4726-a0b6-aaa6be96d41b",
   "metadata": {},
   "outputs": [],
   "source": [
    "sort = sorted(l,key= lambda x : x[1])"
   ]
  },
  {
   "cell_type": "code",
   "execution_count": 9,
   "id": "a1c2ca60-990a-496b-9b6c-7b8e9d696227",
   "metadata": {},
   "outputs": [
    {
     "data": {
      "text/plain": [
       "[('Virat Kohli', 24936),\n",
       " ('Jack Kallis', 25534),\n",
       " ('Ricky Ponting', 27483),\n",
       " ('Sachin Tendulkar', 34357)]"
      ]
     },
     "execution_count": 9,
     "metadata": {},
     "output_type": "execute_result"
    }
   ],
   "source": [
    "sort"
   ]
  },
  {
   "cell_type": "markdown",
   "id": "b69a4133-fb17-4646-b119-755b296b87d3",
   "metadata": {},
   "source": [
    "### Q2. Write a Python Program to find the squares of all the numbers in the given list of integers using\n",
    "### lambda and map functions.\n",
    "### [1, 2, 3, 4, 5, 6, 7, 8, 9, 10]"
   ]
  },
  {
   "cell_type": "code",
   "execution_count": 13,
   "id": "38e0a037-5dfc-4757-b336-6e817991296d",
   "metadata": {},
   "outputs": [
    {
     "data": {
      "text/plain": [
       "[1, 4, 9, 16, 25, 36, 49, 64, 81, 100]"
      ]
     },
     "execution_count": 13,
     "metadata": {},
     "output_type": "execute_result"
    }
   ],
   "source": [
    "l2 = [1, 2, 3, 4, 5, 6, 7, 8, 9, 10]\n",
    "list(map(lambda x : x**2, l2))"
   ]
  },
  {
   "cell_type": "markdown",
   "id": "a19386d3-7d95-4e27-8ba4-5fb0f47e8f2d",
   "metadata": {},
   "source": [
    "### Q3. Write a python program to convert the given list of integers into a tuple of strings. Use map and\n",
    "### lambda functions\n",
    "### Given String: [1, 2, 3, 4, 5, 6, 7, 8, 9, 10]\n",
    "### Expected output: ('1', '2', '3', '4', '5', '6', '7', '8', '9', '10')"
   ]
  },
  {
   "cell_type": "code",
   "execution_count": 14,
   "id": "801be5d2-255a-415f-a24b-49d5048a0726",
   "metadata": {},
   "outputs": [
    {
     "data": {
      "text/plain": [
       "('1', '2', '3', '4', '5', '6', '7', '8', '9', '10')"
      ]
     },
     "execution_count": 14,
     "metadata": {},
     "output_type": "execute_result"
    }
   ],
   "source": [
    "l3 = [1, 2, 3, 4, 5, 6, 7, 8, 9, 10]\n",
    "tuple(map(lambda x : str(x), l3))"
   ]
  },
  {
   "cell_type": "markdown",
   "id": "ee599648-f8ca-4592-9707-628b2abbbf05",
   "metadata": {},
   "source": [
    "### Q4. Write a python program using reduce function to compute the product of a list containing numbers\n",
    "### from 1 to 25."
   ]
  },
  {
   "cell_type": "code",
   "execution_count": 22,
   "id": "366e5460-31f5-4cbf-b531-f2874d0d42bf",
   "metadata": {},
   "outputs": [
    {
     "data": {
      "text/plain": [
       "15511210043330985984000000"
      ]
     },
     "execution_count": 22,
     "metadata": {},
     "output_type": "execute_result"
    }
   ],
   "source": [
    "from functools import reduce\n",
    "l4 = (range(1,26))\n",
    "reduce(lambda x,y: x*y, l4)\n"
   ]
  },
  {
   "cell_type": "markdown",
   "id": "51cbda6f-2989-42aa-9641-aae5740a444f",
   "metadata": {},
   "source": [
    "### Q5. Write a python program to filter the numbers in a given list that are divisible by 2 and 3 using the\n",
    "### ilter function.\n",
    "### [2, 3, 6, 9, 27, 60, 90, 120, 55, 46]\n"
   ]
  },
  {
   "cell_type": "code",
   "execution_count": 29,
   "id": "2f1b92c0-ec3d-4556-845f-d0ec10bfd8c0",
   "metadata": {},
   "outputs": [
    {
     "data": {
      "text/plain": [
       "[6, 60, 90, 120]"
      ]
     },
     "execution_count": 29,
     "metadata": {},
     "output_type": "execute_result"
    }
   ],
   "source": [
    "l5 = [2, 3, 6, 9, 27, 60, 90, 120, 55, 46]\n",
    "list(filter(lambda x : x % 2 == 0 and x % 3 == 0, l5))"
   ]
  },
  {
   "cell_type": "markdown",
   "id": "fa3c7fce-449b-49dc-a3f6-388489ef0a20",
   "metadata": {},
   "source": [
    "###### Q6. Write a python program to find palindromes in the given list of strings using lambda and filter\n",
    " ### function.\n",
    "### ['python', 'php', 'aba', 'radar', 'level']"
   ]
  },
  {
   "cell_type": "code",
   "execution_count": 32,
   "id": "18a0c968-cfff-4ff2-b9dc-1649ee99a730",
   "metadata": {},
   "outputs": [
    {
     "data": {
      "text/plain": [
       "[]"
      ]
     },
     "execution_count": 32,
     "metadata": {},
     "output_type": "execute_result"
    }
   ],
   "source": [
    "l6 = ['python', 'php', 'aba', 'radar', 'level']\n",
    "list(filter(lambda x : str(x) == reversed(x), l6))"
   ]
  },
  {
   "cell_type": "code",
   "execution_count": null,
   "id": "e943e683-6084-4234-bb71-418aeb9ceca4",
   "metadata": {},
   "outputs": [],
   "source": []
  }
 ],
 "metadata": {
  "kernelspec": {
   "display_name": "Python 3 (ipykernel)",
   "language": "python",
   "name": "python3"
  },
  "language_info": {
   "codemirror_mode": {
    "name": "ipython",
    "version": 3
   },
   "file_extension": ".py",
   "mimetype": "text/x-python",
   "name": "python",
   "nbconvert_exporter": "python",
   "pygments_lexer": "ipython3",
   "version": "3.10.8"
  }
 },
 "nbformat": 4,
 "nbformat_minor": 5
}
