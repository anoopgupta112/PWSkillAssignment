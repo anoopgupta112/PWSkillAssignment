{
 "cells": [
  {
   "cell_type": "markdown",
   "id": "8607541e-2060-49ff-b75c-581ff27d59bc",
   "metadata": {},
   "source": [
    "### Q1. What is a database? Differentiate between SQL and NoSQL databases."
   ]
  },
  {
   "cell_type": "markdown",
   "id": "a236937a-ff16-4b6d-8733-4463f05bf497",
   "metadata": {},
   "source": [
    "### Ans: A database is an organized collection of structured or unstructured data that can be accessed, managed, and updated in a systematic way. Databases are used to store and manage data for various applications, ranging from small-scale personal applications to large-scale enterprise systems.\n",
    "\n",
    "### SQL and NoSQL are two different types of databases that differ in their structure, data model, and query language:\n",
    "\n",
    "### SQL databases: SQL stands for Structured Query Language, which is a language used to manage and manipulate relational databases. SQL databases store data in a structured manner, using tables with predefined columns and data types. Each table has a unique key, and the data is stored in rows that correspond to records in the table. SQL databases are highly structured and provide a high level of data integrity and consistency. Some examples of SQL databases include MySQL, Oracle, and PostgreSQL.\n",
    "\n",
    "### NoSQL databases: NoSQL stands for \"not only SQL\", which means that NoSQL databases are not limited to SQL query language. NoSQL databases store data in a non-structured or semi-structured manner, using documents, key-value pairs, or graphs. NoSQL databases are highly scalable and can handle large volumes of data with ease. NoSQL databases provide greater flexibility and agility than SQL databases, but at the cost of reduced data integrity and consistency. Some examples of NoSQL databases include MongoDB, Cassandra, and Redis."
   ]
  },
  {
   "cell_type": "markdown",
   "id": "66be60c5-49a9-4d38-bfbb-02281a3eca42",
   "metadata": {},
   "source": [
    "### Q2. What is DDL? Explain why CREATE, DROP, ALTER, and TRUNCATE are used with an example."
   ]
  },
  {
   "cell_type": "markdown",
   "id": "73752a98-3c15-4de1-8497-96eb66039c6f",
   "metadata": {},
   "source": [
    "### Ans: DDL stands for Data Definition Language, which is a subset of SQL commands used to define and manage the structure of database objects, such as tables, indexes, and views. The four main DDL commands are CREATE, DROP, ALTER, and TRUNCATE, which are used as follows:\n",
    "\n",
    "### 1. CREATE: The CREATE command is used to create a new database object, such as a table, view, or index. For example, to create a new table called \"employees\" with columns for employee ID, name, and salary, the following SQL command can be used: \n",
    "### CREATE TABLE employees (\n",
    "###     id INT PRIMARY KEY,\n",
    "###     name VARCHAR(50),\n",
    "###     salary DECIMAL(10,2)\n",
    "### );\n",
    "### DROP: The DROP command is used to remove an existing database object, such as a table, view, or index. For example, to drop the \"employees\" table created above, the following SQL command can be used:\n",
    "### DROP TABLE employees;\n",
    "### ALTER: The ALTER command is used to modify the structure of an existing database object, such as a table, view, or index. For example, to add a new column for employee age to the \"employees\" table, the following SQL command can be used:\n",
    "### ALTER TABLE employees ADD COLUMN age INT;\n",
    "### TRUNCATE: The TRUNCATE command is used to remove all data from an existing table, while keeping the table structure intact. For example, to remove all data from the \"employees\" table created above, the following SQL command can be used:\n",
    "### TRUNCATE TABLE employees;\n",
    "\n",
    "### These DDL commands are essential for managing the structure and contents of a database, and are used frequently in database administration and application development.\n"
   ]
  },
  {
   "cell_type": "markdown",
   "id": "dc96d29c-5b56-4a93-a66c-75019f593dd7",
   "metadata": {},
   "source": [
    "### Q3. What is DML? Explain INSERT, UPDATE, and DELETE with an example."
   ]
  },
  {
   "cell_type": "markdown",
   "id": "4c23e7f6-a597-46c6-9c46-ec469e6ae2b2",
   "metadata": {},
   "source": [
    "### Ans. DML stands for Data Manipulation Language, which is a subset of SQL commands used to manipulate data within a database. The three main DML commands are INSERT, UPDATE, and DELETE, which are used as follows:\n",
    "### INSERT: The INSERT command is used to insert new data into a table. For example, to add a new record for an employee with ID 123, name \"John Doe\", and salary 50000\n",
    "### INSERT INTO employees (id, name, salary) VALUES (123, 'John Doe', 50000.00);\n",
    "### UPDATE: The UPDATE command is used to modify existing data in a table. For example, to update the salary for employee ID 123 to $60,000 in the \"employees\" table, the following SQL command can be used:\n",
    "### UPDATE employees SET salary = 60000.00 WHERE id = 123;\n",
    "### DELETE: The DELETE command is used to remove data from a table. For example, to delete the record for employee ID 123 from the \"employees\" table, the following SQL command can be used:\n",
    "### DELETE FROM employees WHERE id = 123;\n",
    "### These DML commands are essential for manipulating data within a database, and are used frequently in database applications to perform CRUD (Create, Read, Update, Delete) operations on data. It's important to use these commands with caution, as they can have a significant impact on the data within a database."
   ]
  },
  {
   "cell_type": "markdown",
   "id": "2d17fe45-28a3-437e-a614-7046801ccca6",
   "metadata": {},
   "source": [
    "### Q4. What is DQL? Explain SELECT with an example."
   ]
  },
  {
   "cell_type": "markdown",
   "id": "1e99830d-879f-4e8d-ad39-a8ddb0e0e19d",
   "metadata": {},
   "source": [
    "### Ans. DQL stands for Data Query Language, which is a subset of SQL commands used to retrieve data from a database. The main DQL command is SELECT, which is used to retrieve data from one or more tables based on specified criteria. The SELECT command is commonly used in database applications to retrieve data for reporting, analysis, or other purposes.\n",
    "\n",
    "### Here's an example of how the SELECT command can be used to retrieve data from a table:\n",
    "\n",
    "### Suppose we have a table called \"employees\" that contains information about employees in a company. The table has columns for employee ID, name, department, and salary. To retrieve the names and salaries of all employees in the \"sales\" department, we can use the following SQL command:\n",
    "### SELECT name, salary FROM employees WHERE department = 'sales';\n",
    "### This command specifies that we want to retrieve the \"name\" and \"salary\" columns from the \"employees\" table, but only for employees where the \"department\" column equals 'sales'. The result of this query would be a table containing the names and salaries of all employees in the \"sales\" department.\n",
    "\n",
    "### The SELECT command can also be used with other clauses, such as GROUP BY, ORDER BY, and HAVING, to perform more advanced queries and aggregate data. By using the SELECT command and other DQL commands, developers and analysts can extract meaningful insights from large amounts of data stored in databases.\n"
   ]
  },
  {
   "cell_type": "markdown",
   "id": "9bc52779-d529-4c4b-996c-607ff8cca693",
   "metadata": {},
   "source": [
    "### Q5. Explain Primary Key and Foreign Key."
   ]
  },
  {
   "cell_type": "markdown",
   "id": "11469c09-c114-456f-b8cc-9d046270764b",
   "metadata": {},
   "source": [
    "### Ans. In a relational database, a primary key is a unique identifier for a record in a table. A primary key can be made up of one or more columns, and its values must be unique for each record in the table. Primary keys are used to ensure data integrity and to facilitate efficient data retrieval.\n",
    "\n",
    "### For example, in a table of customers, the primary key could be a column called \"customer_id.\" Each customer would have a unique customer ID, and this ID would be used to identify the customer in other tables.\n",
    "\n",
    "### A foreign key, on the other hand, is a column or set of columns in one table that refers to the primary key of another table. Foreign keys are used to establish relationships between tables, which are crucial in relational database design.\n",
    "\n",
    "### For example, in a table of orders, there may be a column called \"customer_id,\" which is a foreign key that refers to the \"customer_id\" column in the customers table. This allows the orders table to be related to the customers table, and allows data to be retrieved across the two tables.\n"
   ]
  },
  {
   "cell_type": "markdown",
   "id": "de399708-73d4-4f7a-a6d2-7522c2ce240c",
   "metadata": {},
   "source": [
    "### Q6. Write a python code to connect MySQL to python. Explain the cursor() and execute() method."
   ]
  },
  {
   "cell_type": "code",
   "execution_count": null,
   "id": "390d0a48-e159-4e58-8c31-f47daf6010df",
   "metadata": {},
   "outputs": [],
   "source": [
    "import mysql.connector\n",
    "mydb = mysql.connector.connect(\n",
    "  host=\"localhost\",\n",
    "  user=\"abc\",\n",
    "  password=\"password\"\n",
    ")\n",
    "mycursor = mydb.cursor()\n",
    "mycursor.execute(\"insert into test1.test_table values(3424 , 'sudh' , 234 , 345.56 , 'kumar')\")\n",
    "mycursor.execute(\"insert into test1.test_table values(3424 , 'sudh' , 234 , 345.56 , 'kumar')\")\n",
    "mycursor.execute(\"insert into test1.test_table values(3424 , 'sudh' , 234 , 345.56 , 'kumar')\")\n",
    "mydb.commit()\n",
    "mydb.close()"
   ]
  },
  {
   "cell_type": "markdown",
   "id": "a34e7fa0-ee19-4243-b988-4727895466e3",
   "metadata": {},
   "source": [
    "### The cursor() method creates a cursor object that allows us to execute SQL queries on the database. The execute() method is called on the cursor object to execute an SQL query, and it takes the SQL query as a parameter. The execute() method returns the results of the query, which can be insert data using the insert."
   ]
  },
  {
   "cell_type": "markdown",
   "id": "6f1af9e5-97e2-4ee0-a267-8f55fc69634c",
   "metadata": {},
   "source": [
    "### Q7. Give the order of execution of SQL clauses in an SQL query."
   ]
  },
  {
   "cell_type": "markdown",
   "id": "175d5290-5618-447b-9069-18c2ae9ca97f",
   "metadata": {},
   "source": [
    "### Ans. The order of execution of SQL clauses in an SQL query is as follows:\n",
    "\n",
    "### 1. FROM: This clause specifies the table or tables from which the data will be selected.\n",
    "\n",
    "### 2. WHERE: This clause filters the data based on a specified condition or set of conditions.\n",
    "\n",
    "### 3. GROUP BY: This clause groups the data based on a specified column or set of columns.\n",
    "\n",
    "### 4. HAVING: This clause filters the grouped data based on a specified condition or set of conditions.\n",
    "\n",
    "### 5. SELECT: This clause selects the columns to be displayed in the output.\n",
    "\n",
    "### 6. DISTINCT: This clause eliminates duplicate rows from the output.\n",
    "\n",
    "### 7. ORDER BY: This clause sorts the output based on a specified column or set of columns.\n",
    "\n",
    "### 8. LIMIT/OFFSET: These clauses limit the number of rows returned by the query or specify the starting point for returning rows."
   ]
  },
  {
   "cell_type": "code",
   "execution_count": null,
   "id": "1c353e71-abfa-4a63-bd0c-df41ddaa5901",
   "metadata": {},
   "outputs": [],
   "source": []
  }
 ],
 "metadata": {
  "kernelspec": {
   "display_name": "Python 3 (ipykernel)",
   "language": "python",
   "name": "python3"
  },
  "language_info": {
   "codemirror_mode": {
    "name": "ipython",
    "version": 3
   },
   "file_extension": ".py",
   "mimetype": "text/x-python",
   "name": "python",
   "nbconvert_exporter": "python",
   "pygments_lexer": "ipython3",
   "version": "3.10.8"
  }
 },
 "nbformat": 4,
 "nbformat_minor": 5
}
