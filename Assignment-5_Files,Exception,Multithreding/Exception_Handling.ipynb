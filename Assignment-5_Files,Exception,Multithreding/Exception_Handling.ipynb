{
 "cells": [
  {
   "cell_type": "markdown",
   "id": "547c707c-fbb5-4887-a3c9-41f4fbf8f0c5",
   "metadata": {},
   "source": [
    "### Q1. What is an Exeption in python? Write the difference between Exceptions and syntax errors?"
   ]
  },
  {
   "cell_type": "markdown",
   "id": "5c5057e0-b943-41a6-84e5-ae2e06814864",
   "metadata": {},
   "source": [
    "### An exception in Python is an error that occurs during the execution of a program. It may be different like invalid input, division by zero, out of memory. When an exception occurs, the normal flow of the program is disrupted, and the program terminates."
   ]
  },
  {
   "cell_type": "markdown",
   "id": "57b58b95-1b13-4085-9a3c-6291ac77a663",
   "metadata": {},
   "source": [
    "### Difference : Difference between exceptions and syntax errors is - exceptions occur during the execution of a program, while syntax errors occur before the program is executed. Additionally, exceptions can be handled and resolved programmatically, but in case of syntax errors It must be fixed manually.\n"
   ]
  },
  {
   "cell_type": "markdown",
   "id": "fe85f016-736c-48c0-8577-c676e98866da",
   "metadata": {},
   "source": [
    "### Q2. What happens when an exception is not handled? Explain with an example"
   ]
  },
  {
   "cell_type": "markdown",
   "id": "a9fb814a-7831-4f0f-abc7-61d3c468aea7",
   "metadata": {},
   "source": [
    "### When exception is not handled, the program terminates abruptly and shows a traceback, which is a detailed report of the error that  occurred. The traceback provides information about the line of code where the error occurred, a description of the error and the type of error."
   ]
  },
  {
   "cell_type": "code",
   "execution_count": 3,
   "id": "56ff3f01-a610-4a51-a148-cc7acc8711a7",
   "metadata": {},
   "outputs": [
    {
     "name": "stdout",
     "output_type": "stream",
     "text": [
      "2.0\n"
     ]
    },
    {
     "ename": "ZeroDivisionError",
     "evalue": "division by zero",
     "output_type": "error",
     "traceback": [
      "\u001b[0;31m---------------------------------------------------------------------------\u001b[0m",
      "\u001b[0;31mZeroDivisionError\u001b[0m                         Traceback (most recent call last)",
      "Cell \u001b[0;32mIn[3], line 7\u001b[0m\n\u001b[1;32m      4\u001b[0m     \u001b[38;5;28mprint\u001b[39m(x\u001b[38;5;241m/\u001b[39my)\n\u001b[1;32m      6\u001b[0m showError(\u001b[38;5;241m30\u001b[39m,\u001b[38;5;241m15\u001b[39m)\n\u001b[0;32m----> 7\u001b[0m \u001b[43mshowError\u001b[49m\u001b[43m(\u001b[49m\u001b[38;5;241;43m30\u001b[39;49m\u001b[43m,\u001b[49m\u001b[38;5;241;43m0\u001b[39;49m\u001b[43m)\u001b[49m\n",
      "Cell \u001b[0;32mIn[3], line 4\u001b[0m, in \u001b[0;36mshowError\u001b[0;34m(x, y)\u001b[0m\n\u001b[1;32m      3\u001b[0m \u001b[38;5;28;01mdef\u001b[39;00m \u001b[38;5;21mshowError\u001b[39m(x,y):\n\u001b[0;32m----> 4\u001b[0m     \u001b[38;5;28mprint\u001b[39m(\u001b[43mx\u001b[49m\u001b[38;5;241;43m/\u001b[39;49m\u001b[43my\u001b[49m)\n",
      "\u001b[0;31mZeroDivisionError\u001b[0m: division by zero"
     ]
    }
   ],
   "source": [
    "# Example\n",
    "\n",
    "def showError(x,y):\n",
    "    print(x/y)\n",
    "    \n",
    "showError(30,15)\n",
    "showError(30,0)"
   ]
  },
  {
   "cell_type": "markdown",
   "id": "b9a97610-b047-4038-97e2-8897e6fbdfa5",
   "metadata": {},
   "source": [
    "### Q3. Which Python statements are used to catch and handle exceptions? Explain with an example"
   ]
  },
  {
   "cell_type": "markdown",
   "id": "571ed8d9-8ea0-4637-80be-25f7435bd27d",
   "metadata": {},
   "source": [
    "### In python, exception can be caught and handled using try and except . If the try block will excute successfully then it won't go in except block (if there is no exception in try block) and If there is any exception in try block then the code of except block will execute.\n"
   ]
  },
  {
   "cell_type": "code",
   "execution_count": 27,
   "id": "652f416b-f317-4e07-a9d4-80f5825bc103",
   "metadata": {},
   "outputs": [
    {
     "name": "stdout",
     "output_type": "stream",
     "text": [
      "This is answer: 1.0\n",
      "Can not divide by zero. division by zero\n"
     ]
    }
   ],
   "source": [
    "# Example\n",
    "\n",
    "def divide(x, y):\n",
    "    try:\n",
    "        result = x / y\n",
    "    except ZeroDivisionError as e:\n",
    "        print(\"Can not divide by zero.\", e)\n",
    "    else:\n",
    "        return f\"This is answer: {result}\"\n",
    "  \n",
    "\n",
    "\n",
    "print(divide(10, 10))\n",
    "divide(10,0)"
   ]
  },
  {
   "cell_type": "markdown",
   "id": "c39bf74e-4f63-49b2-8097-3494ab6ab322",
   "metadata": {},
   "source": [
    "### Q4. Explain with an example:#\n",
    "\n",
    "### try and else\n",
    "### finally\n",
    "### raise"
   ]
  },
  {
   "cell_type": "markdown",
   "id": "1bc12aa2-b783-4eba-b2e4-3d27f7eec483",
   "metadata": {},
   "source": [
    "### answer: try and else"
   ]
  },
  {
   "cell_type": "markdown",
   "id": "dae01924-dbb5-4782-9479-082276e14f6d",
   "metadata": {},
   "source": [
    "###  try and else statements can be used in combination to handle exceptions in Python. The else block is executed if no exception.\n"
   ]
  },
  {
   "cell_type": "code",
   "execution_count": 24,
   "id": "26549ed4-573a-44ac-85f6-82a85a24129c",
   "metadata": {},
   "outputs": [
    {
     "name": "stdout",
     "output_type": "stream",
     "text": [
      "2.0\n",
      "Can not divide by zero\n"
     ]
    }
   ],
   "source": [
    "# example\n",
    "\n",
    "def divide(x, y):\n",
    "    try:\n",
    "        result = x / y\n",
    "    except ZeroDivisionError:\n",
    "        print(\"Can not divide by zero\")\n",
    "    else:\n",
    "        return result\n",
    "\n",
    "print(divide(10, 5))\n",
    "divide(10, 0)"
   ]
  },
  {
   "cell_type": "markdown",
   "id": "548bafdf-880e-4da1-b6ac-7acad7a017d2",
   "metadata": {},
   "source": [
    "### finally: The finally statement in Python is used to specify a block of code that should be executed regardless of whether an exception occurs or not\n"
   ]
  },
  {
   "cell_type": "code",
   "execution_count": 28,
   "id": "72a896ec-f396-4756-9d3b-e903f97b2c33",
   "metadata": {},
   "outputs": [
    {
     "name": "stdout",
     "output_type": "stream",
     "text": [
      "this is finally block\n",
      "2.0\n",
      "Can not divide by zero\n",
      "this is finally block\n"
     ]
    }
   ],
   "source": [
    "# example\n",
    "\n",
    "def divide(x, y):\n",
    "    try:\n",
    "        result = x / y\n",
    "    except ZeroDivisionError:\n",
    "        print(\"Can not divide by zero\")\n",
    "    else:\n",
    "        return result\n",
    "    finally:\n",
    "        print(\"this is finally block\")\n",
    "\n",
    "print(divide(10, 5))\n",
    "divide(10, 0)"
   ]
  },
  {
   "cell_type": "markdown",
   "id": "7a09acae-f067-4a01-a7f9-6e89a61bbeba",
   "metadata": {},
   "source": [
    "### raise: The raise statement in Python is used to raise an exception explicitly. It is used to indicate that an error has occurred and to stop the normal execution of the program.\n"
   ]
  },
  {
   "cell_type": "code",
   "execution_count": 29,
   "id": "d803ea71-c860-44b8-840d-030a6a5d0746",
   "metadata": {},
   "outputs": [
    {
     "name": "stdout",
     "output_type": "stream",
     "text": [
      "2.0\n",
      "Can not divide by zero\n"
     ]
    }
   ],
   "source": [
    "# Example\n",
    "def divide(x, y):\n",
    "    if y == 0:\n",
    "        raise ZeroDivisionError(\"Can not divide by zero\")\n",
    "    return x / y\n",
    "\n",
    "try:\n",
    "    print(divide(10, 5)) \n",
    "    print(divide(10, 0))\n",
    "except ZeroDivisionError as e:\n",
    "    print(e) "
   ]
  },
  {
   "cell_type": "markdown",
   "id": "b587a166-defc-4f12-820d-b4bfb053bac0",
   "metadata": {},
   "source": [
    "### Q5. What are Custom Exceptions in python? What do we need Custom Exceptions ? Explain in with an example"
   ]
  },
  {
   "cell_type": "markdown",
   "id": "1f9a1bcd-9fb2-4374-8c1d-fe941f219776",
   "metadata": {},
   "source": [
    "\n",
    "### In Python,  custom exceptions are user-defined exceptions that allow you to create your own specific exceptions based on your program's requirements. "
   ]
  },
  {
   "cell_type": "markdown",
   "id": "3c189647-bfaf-452c-b481-3580ee3fd4d0",
   "metadata": {},
   "source": [
    "### Need of Custom Exceptions: By using this our Code will be readability and maintainability and It will be reusable as well."
   ]
  },
  {
   "cell_type": "markdown",
   "id": "e0e7ff7e-cb74-473b-a968-e14325ce7857",
   "metadata": {},
   "source": [
    "###  example: Here is a scenario where you are writing a library that performs some mathematical calculations. In this library, you may encounter several different types of errors, such as invalid input, overflow, and divide-by-zero errors. You could handle these errors by raising built-in exceptions, such as ValueError or ZeroDivisionError, but it may not provide enough context or information about the error that has occurred."
   ]
  },
  {
   "cell_type": "markdown",
   "id": "8f95ad6d-ab3e-4f31-9dbb-ad100e5e9444",
   "metadata": {},
   "source": [
    "### "
   ]
  }
 ],
 "metadata": {
  "kernelspec": {
   "display_name": "Python 3 (ipykernel)",
   "language": "python",
   "name": "python3"
  },
  "language_info": {
   "codemirror_mode": {
    "name": "ipython",
    "version": 3
   },
   "file_extension": ".py",
   "mimetype": "text/x-python",
   "name": "python",
   "nbconvert_exporter": "python",
   "pygments_lexer": "ipython3",
   "version": "3.10.8"
  }
 },
 "nbformat": 4,
 "nbformat_minor": 5
}
