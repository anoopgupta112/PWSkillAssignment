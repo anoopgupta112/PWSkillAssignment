{
 "cells": [
  {
   "cell_type": "markdown",
   "id": "ec92560e-1f63-442b-bf23-07e5c955fa6b",
   "metadata": {},
   "source": [
    "### Consider the below code to answer further questions:"
   ]
  },
  {
   "cell_type": "code",
   "execution_count": 2,
   "id": "ebae2b83-23ce-4166-a349-05895f9c0c28",
   "metadata": {},
   "outputs": [],
   "source": [
    "import numpy as np\n",
    "list_ = [ '1' , '2', '3' , '4' , '5' ]\n",
    "array_list = np.array(object = list_)"
   ]
  },
  {
   "cell_type": "code",
   "execution_count": 3,
   "id": "8a14fe88-8a6a-41e2-8987-1ff791ebcaba",
   "metadata": {},
   "outputs": [
    {
     "data": {
      "text/plain": [
       "array(['1', '2', '3', '4', '5'], dtype='<U1')"
      ]
     },
     "execution_count": 3,
     "metadata": {},
     "output_type": "execute_result"
    }
   ],
   "source": [
    "array_list"
   ]
  },
  {
   "cell_type": "markdown",
   "id": "0b79909d-1162-4b69-bf9f-bedd33f72529",
   "metadata": {},
   "source": [
    "### Q1. Is there any difference in the data type of variables list_ and array_list?If there is then write a code to print the data types of both the variables."
   ]
  },
  {
   "cell_type": "markdown",
   "id": "7b1c8816-1083-4706-8125-c0c77b8dcf89",
   "metadata": {},
   "source": [
    "### Yes, there is a difference in the data type of variables list_ and array_list. list_ is a Python list object while array_list is a NumPy array object."
   ]
  },
  {
   "cell_type": "code",
   "execution_count": 5,
   "id": "d89be4de-fddc-4e7c-9a5c-dbc6d4ab0f77",
   "metadata": {},
   "outputs": [
    {
     "name": "stdout",
     "output_type": "stream",
     "text": [
      "<class 'list'>\n",
      "<class 'numpy.ndarray'>\n"
     ]
    }
   ],
   "source": [
    "\n",
    "# printing data types \n",
    "print(type(list_)) \n",
    "print(type(array_list))"
   ]
  },
  {
   "cell_type": "markdown",
   "id": "7851b8a3-f17f-430a-b6da-8a5c2bc09f2e",
   "metadata": {},
   "source": [
    "### Q2. Write a code to print the data type of each and every element of both the variables list_ and arra_list."
   ]
  },
  {
   "cell_type": "code",
   "execution_count": 7,
   "id": "e781a95c-4fa1-494c-af49-f0e04391071c",
   "metadata": {},
   "outputs": [
    {
     "name": "stdout",
     "output_type": "stream",
     "text": [
      "<class 'str'>\n",
      "<class 'str'>\n",
      "<class 'str'>\n",
      "<class 'str'>\n",
      "<class 'str'>\n",
      "<class 'numpy.str_'>\n",
      "<class 'numpy.str_'>\n",
      "<class 'numpy.str_'>\n",
      "<class 'numpy.str_'>\n",
      "<class 'numpy.str_'>\n"
     ]
    }
   ],
   "source": [
    "# data type of each element in list_\n",
    "for e in list_:\n",
    "    print(type(e))\n",
    "\n",
    "# data type of each element in array_list\n",
    "for e in array_list:\n",
    "    print(type(e))"
   ]
  },
  {
   "cell_type": "markdown",
   "id": "a22593de-a83c-46eb-b28c-e8d27af98514",
   "metadata": {},
   "source": [
    "### Q3. Considering the following changes in the variable, array_list:"
   ]
  },
  {
   "cell_type": "code",
   "execution_count": 10,
   "id": "76305291-8480-46a3-a9e8-cf99ee013ed6",
   "metadata": {},
   "outputs": [],
   "source": [
    "array_list = np.array(object = list_, dtype = int)"
   ]
  },
  {
   "cell_type": "markdown",
   "id": "525e4add-cd66-44c0-82f6-2f4112e24fba",
   "metadata": {},
   "source": [
    "### Will there be any difference in the data type of the elements present in both the variables, list_ and arra_list? If so then print the data types of each and every element present in both the variables, list_ and arra_list."
   ]
  },
  {
   "cell_type": "code",
   "execution_count": 15,
   "id": "eb52fec2-c9dc-4348-82c9-e4e8bd8e47cb",
   "metadata": {},
   "outputs": [
    {
     "name": "stdout",
     "output_type": "stream",
     "text": [
      "<class 'str'>\n",
      "<class 'str'>\n",
      "<class 'str'>\n",
      "<class 'str'>\n",
      "<class 'str'>\n",
      "<class 'numpy.int64'>\n",
      "<class 'numpy.int64'>\n",
      "<class 'numpy.int64'>\n",
      "<class 'numpy.int64'>\n",
      "<class 'numpy.int64'>\n"
     ]
    }
   ],
   "source": [
    "# Yes, following changes will happen in data type: instead of printing <class 'numpy.str_'>, It will print <class 'numpy.int64'> - see the output \n",
    "for e in list_:\n",
    "    print(type(e))\n",
    "for e in array_list:\n",
    "    print(type(e))"
   ]
  },
  {
   "cell_type": "markdown",
   "id": "8592bc53-5396-42c0-ad4b-6393f80ec50c",
   "metadata": {},
   "source": [
    "## Consider the below code to answer further questions:"
   ]
  },
  {
   "cell_type": "code",
   "execution_count": 16,
   "id": "cf8eb5db-0aa3-4ade-a23f-fbdfd732327e",
   "metadata": {},
   "outputs": [],
   "source": [
    "import numpy as np\n",
    "num_list = [ [ 1 , 2 , 3 ] , [ 4 , 5 , 6 ] ]\n",
    "num_array = np.array(object = num_list)"
   ]
  },
  {
   "cell_type": "markdown",
   "id": "29d79f9d-6b88-4442-811b-ec37e0def271",
   "metadata": {},
   "source": [
    "### Q4. Write a code to find the following characteristics of variable, num_array:\n",
    "### (i) shape (ii) size"
   ]
  },
  {
   "cell_type": "markdown",
   "id": "26fae18c-9fa5-4a77-b91f-08ae1bbf5a36",
   "metadata": {},
   "source": [
    "### Here is the code for printing the characteristics of variable shape and size"
   ]
  },
  {
   "cell_type": "code",
   "execution_count": 17,
   "id": "f3546edf-11a5-433b-94b2-c12e097fbced",
   "metadata": {},
   "outputs": [
    {
     "name": "stdout",
     "output_type": "stream",
     "text": [
      "(2, 3)\n",
      "6\n"
     ]
    }
   ],
   "source": [
    "# Print the shape of num_array\n",
    "print(num_array.shape)\n",
    "\n",
    "# Print the size of num_array\n",
    "print(num_array.size)"
   ]
  },
  {
   "cell_type": "markdown",
   "id": "0f7784bc-f1bf-4680-bfa7-51d07bbe5ff0",
   "metadata": {},
   "source": [
    "### Q5. Write a code to create numpy array of 3*3 matrix containing zeros only, using a numpy array creation function."
   ]
  },
  {
   "cell_type": "markdown",
   "id": "aa6ab4b1-edd7-44d5-8314-c95d491170c0",
   "metadata": {},
   "source": [
    "### Creating a 3*3 matrix containing zeros only \n"
   ]
  },
  {
   "cell_type": "code",
   "execution_count": 19,
   "id": "77802a2c-5db4-4dcb-aaaf-caf2b4cd3dc3",
   "metadata": {},
   "outputs": [
    {
     "name": "stdout",
     "output_type": "stream",
     "text": [
      "[[0. 0. 0.]\n",
      " [0. 0. 0.]\n",
      " [0. 0. 0.]]\n"
     ]
    }
   ],
   "source": [
    "zeros_mat = np.zeros((3,3))\n",
    "print(zeros_mat)"
   ]
  },
  {
   "cell_type": "markdown",
   "id": "c387f9b7-edef-4b17-8d3b-1c5bc737b568",
   "metadata": {},
   "source": [
    "### Q6. Create an identity matrix of shape (5,5) using numpy functions?"
   ]
  },
  {
   "cell_type": "markdown",
   "id": "ee684cea-7858-45a0-9abc-c7d9b5fa520a",
   "metadata": {},
   "source": [
    "### identity matrix of shape(5,5) "
   ]
  },
  {
   "cell_type": "code",
   "execution_count": 20,
   "id": "d4f35753-f897-4c30-9423-c5c82cd1f131",
   "metadata": {},
   "outputs": [
    {
     "name": "stdout",
     "output_type": "stream",
     "text": [
      "[[1. 0. 0. 0. 0.]\n",
      " [0. 1. 0. 0. 0.]\n",
      " [0. 0. 1. 0. 0.]\n",
      " [0. 0. 0. 1. 0.]\n",
      " [0. 0. 0. 0. 1.]]\n"
     ]
    }
   ],
   "source": [
    "identity_mat = np.eye(5)\n",
    "print(identity_mat)"
   ]
  },
  {
   "cell_type": "code",
   "execution_count": null,
   "id": "cadd8e1b-4a33-40e7-afcd-ae910c13354f",
   "metadata": {},
   "outputs": [],
   "source": []
  }
 ],
 "metadata": {
  "kernelspec": {
   "display_name": "Python 3 (ipykernel)",
   "language": "python",
   "name": "python3"
  },
  "language_info": {
   "codemirror_mode": {
    "name": "ipython",
    "version": 3
   },
   "file_extension": ".py",
   "mimetype": "text/x-python",
   "name": "python",
   "nbconvert_exporter": "python",
   "pygments_lexer": "ipython3",
   "version": "3.10.8"
  }
 },
 "nbformat": 4,
 "nbformat_minor": 5
}
